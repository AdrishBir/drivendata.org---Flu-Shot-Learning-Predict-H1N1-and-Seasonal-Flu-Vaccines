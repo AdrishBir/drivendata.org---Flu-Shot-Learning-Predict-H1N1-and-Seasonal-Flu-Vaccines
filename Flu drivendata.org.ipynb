{
 "cells": [
  {
   "cell_type": "markdown",
   "metadata": {},
   "source": [
    "# DATA LOADING"
   ]
  },
  {
   "cell_type": "code",
   "execution_count": 1,
   "metadata": {},
   "outputs": [],
   "source": [
    "import pandas as pd\n",
    "import os\n",
    "DATA_PATH='C:/Users/Adrish Bir/Desktop/Data science &Machine Learning/Flu/Flu'\n",
    "csv_name='training_set_features.csv'\n",
    "def load_data(data_path= DATA_PATH):\n",
    "    csv_path = os.path.join(data_path,csv_name)\n",
    "    return pd.read_csv(csv_path)"
   ]
  },
  {
   "cell_type": "code",
   "execution_count": 2,
   "metadata": {},
   "outputs": [
    {
     "data": {
      "text/html": [
       "<div>\n",
       "<style scoped>\n",
       "    .dataframe tbody tr th:only-of-type {\n",
       "        vertical-align: middle;\n",
       "    }\n",
       "\n",
       "    .dataframe tbody tr th {\n",
       "        vertical-align: top;\n",
       "    }\n",
       "\n",
       "    .dataframe thead th {\n",
       "        text-align: right;\n",
       "    }\n",
       "</style>\n",
       "<table border=\"1\" class=\"dataframe\">\n",
       "  <thead>\n",
       "    <tr style=\"text-align: right;\">\n",
       "      <th></th>\n",
       "      <th>respondent_id</th>\n",
       "      <th>h1n1_concern</th>\n",
       "      <th>h1n1_knowledge</th>\n",
       "      <th>behavioral_antiviral_meds</th>\n",
       "      <th>behavioral_avoidance</th>\n",
       "      <th>behavioral_face_mask</th>\n",
       "      <th>behavioral_wash_hands</th>\n",
       "      <th>behavioral_large_gatherings</th>\n",
       "      <th>behavioral_outside_home</th>\n",
       "      <th>behavioral_touch_face</th>\n",
       "      <th>...</th>\n",
       "      <th>income_poverty</th>\n",
       "      <th>marital_status</th>\n",
       "      <th>rent_or_own</th>\n",
       "      <th>employment_status</th>\n",
       "      <th>hhs_geo_region</th>\n",
       "      <th>census_msa</th>\n",
       "      <th>household_adults</th>\n",
       "      <th>household_children</th>\n",
       "      <th>employment_industry</th>\n",
       "      <th>employment_occupation</th>\n",
       "    </tr>\n",
       "  </thead>\n",
       "  <tbody>\n",
       "    <tr>\n",
       "      <th>0</th>\n",
       "      <td>0</td>\n",
       "      <td>1.0</td>\n",
       "      <td>0.0</td>\n",
       "      <td>0.0</td>\n",
       "      <td>0.0</td>\n",
       "      <td>0.0</td>\n",
       "      <td>0.0</td>\n",
       "      <td>0.0</td>\n",
       "      <td>1.0</td>\n",
       "      <td>1.0</td>\n",
       "      <td>...</td>\n",
       "      <td>Below Poverty</td>\n",
       "      <td>Not Married</td>\n",
       "      <td>Own</td>\n",
       "      <td>Not in Labor Force</td>\n",
       "      <td>oxchjgsf</td>\n",
       "      <td>Non-MSA</td>\n",
       "      <td>0.0</td>\n",
       "      <td>0.0</td>\n",
       "      <td>NaN</td>\n",
       "      <td>NaN</td>\n",
       "    </tr>\n",
       "    <tr>\n",
       "      <th>1</th>\n",
       "      <td>1</td>\n",
       "      <td>3.0</td>\n",
       "      <td>2.0</td>\n",
       "      <td>0.0</td>\n",
       "      <td>1.0</td>\n",
       "      <td>0.0</td>\n",
       "      <td>1.0</td>\n",
       "      <td>0.0</td>\n",
       "      <td>1.0</td>\n",
       "      <td>1.0</td>\n",
       "      <td>...</td>\n",
       "      <td>Below Poverty</td>\n",
       "      <td>Not Married</td>\n",
       "      <td>Rent</td>\n",
       "      <td>Employed</td>\n",
       "      <td>bhuqouqj</td>\n",
       "      <td>MSA, Not Principle  City</td>\n",
       "      <td>0.0</td>\n",
       "      <td>0.0</td>\n",
       "      <td>pxcmvdjn</td>\n",
       "      <td>xgwztkwe</td>\n",
       "    </tr>\n",
       "    <tr>\n",
       "      <th>2</th>\n",
       "      <td>2</td>\n",
       "      <td>1.0</td>\n",
       "      <td>1.0</td>\n",
       "      <td>0.0</td>\n",
       "      <td>1.0</td>\n",
       "      <td>0.0</td>\n",
       "      <td>0.0</td>\n",
       "      <td>0.0</td>\n",
       "      <td>0.0</td>\n",
       "      <td>0.0</td>\n",
       "      <td>...</td>\n",
       "      <td>&lt;= $75,000, Above Poverty</td>\n",
       "      <td>Not Married</td>\n",
       "      <td>Own</td>\n",
       "      <td>Employed</td>\n",
       "      <td>qufhixun</td>\n",
       "      <td>MSA, Not Principle  City</td>\n",
       "      <td>2.0</td>\n",
       "      <td>0.0</td>\n",
       "      <td>rucpziij</td>\n",
       "      <td>xtkaffoo</td>\n",
       "    </tr>\n",
       "    <tr>\n",
       "      <th>3</th>\n",
       "      <td>3</td>\n",
       "      <td>1.0</td>\n",
       "      <td>1.0</td>\n",
       "      <td>0.0</td>\n",
       "      <td>1.0</td>\n",
       "      <td>0.0</td>\n",
       "      <td>1.0</td>\n",
       "      <td>1.0</td>\n",
       "      <td>0.0</td>\n",
       "      <td>0.0</td>\n",
       "      <td>...</td>\n",
       "      <td>Below Poverty</td>\n",
       "      <td>Not Married</td>\n",
       "      <td>Rent</td>\n",
       "      <td>Not in Labor Force</td>\n",
       "      <td>lrircsnp</td>\n",
       "      <td>MSA, Principle City</td>\n",
       "      <td>0.0</td>\n",
       "      <td>0.0</td>\n",
       "      <td>NaN</td>\n",
       "      <td>NaN</td>\n",
       "    </tr>\n",
       "    <tr>\n",
       "      <th>4</th>\n",
       "      <td>4</td>\n",
       "      <td>2.0</td>\n",
       "      <td>1.0</td>\n",
       "      <td>0.0</td>\n",
       "      <td>1.0</td>\n",
       "      <td>0.0</td>\n",
       "      <td>1.0</td>\n",
       "      <td>1.0</td>\n",
       "      <td>0.0</td>\n",
       "      <td>1.0</td>\n",
       "      <td>...</td>\n",
       "      <td>&lt;= $75,000, Above Poverty</td>\n",
       "      <td>Married</td>\n",
       "      <td>Own</td>\n",
       "      <td>Employed</td>\n",
       "      <td>qufhixun</td>\n",
       "      <td>MSA, Not Principle  City</td>\n",
       "      <td>1.0</td>\n",
       "      <td>0.0</td>\n",
       "      <td>wxleyezf</td>\n",
       "      <td>emcorrxb</td>\n",
       "    </tr>\n",
       "  </tbody>\n",
       "</table>\n",
       "<p>5 rows × 36 columns</p>\n",
       "</div>"
      ],
      "text/plain": [
       "   respondent_id  h1n1_concern  h1n1_knowledge  behavioral_antiviral_meds  \\\n",
       "0              0           1.0             0.0                        0.0   \n",
       "1              1           3.0             2.0                        0.0   \n",
       "2              2           1.0             1.0                        0.0   \n",
       "3              3           1.0             1.0                        0.0   \n",
       "4              4           2.0             1.0                        0.0   \n",
       "\n",
       "   behavioral_avoidance  behavioral_face_mask  behavioral_wash_hands  \\\n",
       "0                   0.0                   0.0                    0.0   \n",
       "1                   1.0                   0.0                    1.0   \n",
       "2                   1.0                   0.0                    0.0   \n",
       "3                   1.0                   0.0                    1.0   \n",
       "4                   1.0                   0.0                    1.0   \n",
       "\n",
       "   behavioral_large_gatherings  behavioral_outside_home  \\\n",
       "0                          0.0                      1.0   \n",
       "1                          0.0                      1.0   \n",
       "2                          0.0                      0.0   \n",
       "3                          1.0                      0.0   \n",
       "4                          1.0                      0.0   \n",
       "\n",
       "   behavioral_touch_face          ...                       income_poverty  \\\n",
       "0                    1.0          ...                        Below Poverty   \n",
       "1                    1.0          ...                        Below Poverty   \n",
       "2                    0.0          ...            <= $75,000, Above Poverty   \n",
       "3                    0.0          ...                        Below Poverty   \n",
       "4                    1.0          ...            <= $75,000, Above Poverty   \n",
       "\n",
       "   marital_status  rent_or_own   employment_status  hhs_geo_region  \\\n",
       "0     Not Married          Own  Not in Labor Force        oxchjgsf   \n",
       "1     Not Married         Rent            Employed        bhuqouqj   \n",
       "2     Not Married          Own            Employed        qufhixun   \n",
       "3     Not Married         Rent  Not in Labor Force        lrircsnp   \n",
       "4         Married          Own            Employed        qufhixun   \n",
       "\n",
       "                 census_msa  household_adults  household_children  \\\n",
       "0                   Non-MSA               0.0                 0.0   \n",
       "1  MSA, Not Principle  City               0.0                 0.0   \n",
       "2  MSA, Not Principle  City               2.0                 0.0   \n",
       "3       MSA, Principle City               0.0                 0.0   \n",
       "4  MSA, Not Principle  City               1.0                 0.0   \n",
       "\n",
       "   employment_industry  employment_occupation  \n",
       "0                  NaN                    NaN  \n",
       "1             pxcmvdjn               xgwztkwe  \n",
       "2             rucpziij               xtkaffoo  \n",
       "3                  NaN                    NaN  \n",
       "4             wxleyezf               emcorrxb  \n",
       "\n",
       "[5 rows x 36 columns]"
      ]
     },
     "execution_count": 2,
     "metadata": {},
     "output_type": "execute_result"
    }
   ],
   "source": [
    "fludata = load_data()\n",
    "fludata.head()"
   ]
  },
  {
   "cell_type": "code",
   "execution_count": 3,
   "metadata": {},
   "outputs": [
    {
     "name": "stdout",
     "output_type": "stream",
     "text": [
      "<class 'pandas.core.frame.DataFrame'>\n",
      "RangeIndex: 26707 entries, 0 to 26706\n",
      "Data columns (total 36 columns):\n",
      "respondent_id                  26707 non-null int64\n",
      "h1n1_concern                   26615 non-null float64\n",
      "h1n1_knowledge                 26591 non-null float64\n",
      "behavioral_antiviral_meds      26636 non-null float64\n",
      "behavioral_avoidance           26499 non-null float64\n",
      "behavioral_face_mask           26688 non-null float64\n",
      "behavioral_wash_hands          26665 non-null float64\n",
      "behavioral_large_gatherings    26620 non-null float64\n",
      "behavioral_outside_home        26625 non-null float64\n",
      "behavioral_touch_face          26579 non-null float64\n",
      "doctor_recc_h1n1               24547 non-null float64\n",
      "doctor_recc_seasonal           24547 non-null float64\n",
      "chronic_med_condition          25736 non-null float64\n",
      "child_under_6_months           25887 non-null float64\n",
      "health_worker                  25903 non-null float64\n",
      "health_insurance               14433 non-null float64\n",
      "opinion_h1n1_vacc_effective    26316 non-null float64\n",
      "opinion_h1n1_risk              26319 non-null float64\n",
      "opinion_h1n1_sick_from_vacc    26312 non-null float64\n",
      "opinion_seas_vacc_effective    26245 non-null float64\n",
      "opinion_seas_risk              26193 non-null float64\n",
      "opinion_seas_sick_from_vacc    26170 non-null float64\n",
      "age_group                      26707 non-null object\n",
      "education                      25300 non-null object\n",
      "race                           26707 non-null object\n",
      "sex                            26707 non-null object\n",
      "income_poverty                 22284 non-null object\n",
      "marital_status                 25299 non-null object\n",
      "rent_or_own                    24665 non-null object\n",
      "employment_status              25244 non-null object\n",
      "hhs_geo_region                 26707 non-null object\n",
      "census_msa                     26707 non-null object\n",
      "household_adults               26458 non-null float64\n",
      "household_children             26458 non-null float64\n",
      "employment_industry            13377 non-null object\n",
      "employment_occupation          13237 non-null object\n",
      "dtypes: float64(23), int64(1), object(12)\n",
      "memory usage: 7.3+ MB\n"
     ]
    }
   ],
   "source": [
    "fludata.info()"
   ]
  },
  {
   "cell_type": "code",
   "execution_count": 3,
   "metadata": {},
   "outputs": [
    {
     "data": {
      "text/plain": [
       "31"
      ]
     },
     "execution_count": 3,
     "metadata": {},
     "output_type": "execute_result"
    }
   ],
   "source": [
    "bin_patient_attribs = ['behavioral_antiviral_meds','behavioral_avoidance','behavioral_face_mask',\n",
    "                       'behavioral_wash_hands','behavioral_large_gatherings','behavioral_outside_home',\n",
    "                       'behavioral_touch_face','child_under_6_months','health_worker','health_insurance','chronic_med_condition']\n",
    "ordinal_h1n1_attribs = ['h1n1_concern','h1n1_knowledge','opinion_h1n1_vacc_effective',\n",
    "                  'opinion_h1n1_risk','opinion_h1n1_sick_from_vacc']\n",
    "ordinal_seas_attribs = ['opinion_seas_vacc_effective',\n",
    "                  'opinion_seas_risk','opinion_seas_sick_from_vacc'] \n",
    "categorical_attribs = ['age_group','education','race','sex','income_poverty',\n",
    "                       'marital_status','rent_or_own','employment_status',\n",
    "                       'hhs_geo_region','census_msa','employment_industry',\n",
    "                       'employment_occupation']\n",
    "\n",
    "len(bin_patient_attribs)+len(ordinal_h1n1_attribs)+len(ordinal_seas_attribs)+len(categorical_attribs)"
   ]
  },
  {
   "cell_type": "code",
   "execution_count": 4,
   "metadata": {},
   "outputs": [
    {
     "data": {
      "text/plain": [
       "College Graduate    10097\n",
       "Some College         7043\n",
       "12 Years             5797\n",
       "< 12 Years           2363\n",
       "Name: education, dtype: int64"
      ]
     },
     "execution_count": 4,
     "metadata": {},
     "output_type": "execute_result"
    }
   ],
   "source": [
    "fludata['education'].value_counts()"
   ]
  },
  {
   "cell_type": "markdown",
   "metadata": {},
   "source": [
    "# Data viz"
   ]
  },
  {
   "cell_type": "code",
   "execution_count": 6,
   "metadata": {},
   "outputs": [
    {
     "data": {
      "text/plain": [
       "array([[<matplotlib.axes._subplots.AxesSubplot object at 0x05BB3A70>,\n",
       "        <matplotlib.axes._subplots.AxesSubplot object at 0x0737A950>,\n",
       "        <matplotlib.axes._subplots.AxesSubplot object at 0x0739DA30>],\n",
       "       [<matplotlib.axes._subplots.AxesSubplot object at 0x073BDB10>,\n",
       "        <matplotlib.axes._subplots.AxesSubplot object at 0x073DBBF0>,\n",
       "        <matplotlib.axes._subplots.AxesSubplot object at 0x073FACD0>],\n",
       "       [<matplotlib.axes._subplots.AxesSubplot object at 0x0741CE30>,\n",
       "        <matplotlib.axes._subplots.AxesSubplot object at 0x0743B8F0>,\n",
       "        <matplotlib.axes._subplots.AxesSubplot object at 0x0743BE90>],\n",
       "       [<matplotlib.axes._subplots.AxesSubplot object at 0x0746A050>,\n",
       "        <matplotlib.axes._subplots.AxesSubplot object at 0x0749CB90>,\n",
       "        <matplotlib.axes._subplots.AxesSubplot object at 0x074BDC70>]],\n",
       "      dtype=object)"
      ]
     },
     "execution_count": 6,
     "metadata": {},
     "output_type": "execute_result"
    },
    {
     "data": {
      "image/png": "[encoded data removed]",
      "text/plain": [
       "<Figure size 1440x1080 with 12 Axes>"
      ]
     },
     "metadata": {
      "needs_background": "light"
     },
     "output_type": "display_data"
    }
   ],
   "source": [
    "import matplotlib.pyplot as plt\n",
    "fludata[bin_patient_attribs].hist(figsize=(20,15))"
   ]
  },
  {
   "cell_type": "code",
   "execution_count": 3,
   "metadata": {},
   "outputs": [],
   "source": [
    "#plot similar histograms only on healthcare workers\n",
    "#hwdata=fludata.loc[fludata['health_worker'] == 1.0]\n",
    "#hwdata[bin_patient_attribs].hist(figsize=(20,15))"
   ]
  },
  {
   "cell_type": "code",
   "execution_count": 29,
   "metadata": {},
   "outputs": [
    {
     "data": {
      "text/plain": [
       "array([[<matplotlib.axes._subplots.AxesSubplot object at 0x126E36B0>,\n",
       "        <matplotlib.axes._subplots.AxesSubplot object at 0x12C43A10>],\n",
       "       [<matplotlib.axes._subplots.AxesSubplot object at 0x12C61B30>,\n",
       "        <matplotlib.axes._subplots.AxesSubplot object at 0x12C80C10>],\n",
       "       [<matplotlib.axes._subplots.AxesSubplot object at 0x12D41CD0>,\n",
       "        <matplotlib.axes._subplots.AxesSubplot object at 0x12D5FDB0>]],\n",
       "      dtype=object)"
      ]
     },
     "execution_count": 29,
     "metadata": {},
     "output_type": "execute_result"
    },
    {
     "data": {
      "image/png": "[encoded data removed]",
      "text/plain": [
       "<Figure size 864x576 with 6 Axes>"
      ]
     },
     "metadata": {
      "needs_background": "light"
     },
     "output_type": "display_data"
    }
   ],
   "source": [
    "fludata[ordinal_h1n1_attribs].hist(figsize=(12,8))"
   ]
  },
  {
   "cell_type": "code",
   "execution_count": 28,
   "metadata": {},
   "outputs": [
    {
     "data": {
      "text/plain": [
       "array([[<matplotlib.axes._subplots.AxesSubplot object at 0x12BC6910>,\n",
       "        <matplotlib.axes._subplots.AxesSubplot object at 0x126F5770>],\n",
       "       [<matplotlib.axes._subplots.AxesSubplot object at 0x12714890>,\n",
       "        <matplotlib.axes._subplots.AxesSubplot object at 0x12735970>]],\n",
       "      dtype=object)"
      ]
     },
     "execution_count": 28,
     "metadata": {},
     "output_type": "execute_result"
    },
    {
     "data": {
      "image/png": "[encoded data removed]",
      "text/plain": [
       "<Figure size 720x360 with 4 Axes>"
      ]
     },
     "metadata": {
      "needs_background": "light"
     },
     "output_type": "display_data"
    }
   ],
   "source": [
    "fludata[ordinal_seas_attribs].hist(figsize=(10,5))"
   ]
  },
  {
   "cell_type": "code",
   "execution_count": 45,
   "metadata": {},
   "outputs": [
    {
     "data": {
      "text/plain": [
       "array([[<matplotlib.axes._subplots.AxesSubplot object at 0x147346F0>,\n",
       "        <matplotlib.axes._subplots.AxesSubplot object at 0x146F1B70>]],\n",
       "      dtype=object)"
      ]
     },
     "execution_count": 45,
     "metadata": {},
     "output_type": "execute_result"
    },
    {
     "data": {
      "image/png": "[encoded data removed]",
      "text/plain": [
       "<Figure size 504x216 with 2 Axes>"
      ]
     },
     "metadata": {
      "needs_background": "light"
     },
     "output_type": "display_data"
    }
   ],
   "source": [
    "fludata[['doctor_recc_h1n1','doctor_recc_seasonal']].hist(figsize=(7,3))"
   ]
  },
  {
   "cell_type": "code",
   "execution_count": 6,
   "metadata": {},
   "outputs": [
    {
     "data": {
      "text/plain": [
       "respondent_id                      0\n",
       "h1n1_concern                      92\n",
       "h1n1_knowledge                   116\n",
       "behavioral_antiviral_meds         71\n",
       "behavioral_avoidance             208\n",
       "behavioral_face_mask              19\n",
       "behavioral_wash_hands             42\n",
       "behavioral_large_gatherings       87\n",
       "behavioral_outside_home           82\n",
       "behavioral_touch_face            128\n",
       "doctor_recc_h1n1                2160\n",
       "doctor_recc_seasonal            2160\n",
       "chronic_med_condition            971\n",
       "child_under_6_months             820\n",
       "health_worker                    804\n",
       "health_insurance               12274\n",
       "opinion_h1n1_vacc_effective      391\n",
       "opinion_h1n1_risk                388\n",
       "opinion_h1n1_sick_from_vacc      395\n",
       "opinion_seas_vacc_effective      462\n",
       "opinion_seas_risk                514\n",
       "opinion_seas_sick_from_vacc      537\n",
       "age_group                          0\n",
       "education                       1407\n",
       "race                               0\n",
       "sex                                0\n",
       "income_poverty                  4423\n",
       "marital_status                  1408\n",
       "rent_or_own                     2042\n",
       "employment_status               1463\n",
       "hhs_geo_region                     0\n",
       "census_msa                         0\n",
       "household_adults                 249\n",
       "household_children               249\n",
       "employment_industry            13330\n",
       "employment_occupation          13470\n",
       "dtype: int64"
      ]
     },
     "execution_count": 6,
     "metadata": {},
     "output_type": "execute_result"
    }
   ],
   "source": [
    "fludata.isnull().sum()"
   ]
  },
  {
   "cell_type": "markdown",
   "metadata": {},
   "source": [
    "# load labels"
   ]
  },
  {
   "cell_type": "code",
   "execution_count": 5,
   "metadata": {},
   "outputs": [],
   "source": [
    "#load labels\n",
    "DATA_PATH='C:/Users/Adrish Bir/Desktop/Data science &Machine Learning/Flu/Flu'\n",
    "csv_name='training_set_labels.csv'\n",
    "def load_labels(data_path=DATA_PATH):\n",
    "    csv_path = os.path.join(data_path,csv_name)\n",
    "    return pd.read_csv(csv_path)"
   ]
  },
  {
   "cell_type": "code",
   "execution_count": 6,
   "metadata": {},
   "outputs": [
    {
     "name": "stdout",
     "output_type": "stream",
     "text": [
      "<class 'pandas.core.frame.DataFrame'>\n",
      "RangeIndex: 26707 entries, 0 to 26706\n",
      "Data columns (total 3 columns):\n",
      "respondent_id       26707 non-null int64\n",
      "h1n1_vaccine        26707 non-null int64\n",
      "seasonal_vaccine    26707 non-null int64\n",
      "dtypes: int64(3)\n",
      "memory usage: 626.0 KB\n"
     ]
    }
   ],
   "source": [
    "labels = load_labels()\n",
    "labels.info()"
   ]
  },
  {
   "cell_type": "code",
   "execution_count": 7,
   "metadata": {},
   "outputs": [],
   "source": [
    "fludata1 = pd.merge(left=fludata, left_index=True,right=labels, right_index=True,\n",
    "                  how='inner')"
   ]
  },
  {
   "cell_type": "markdown",
   "metadata": {},
   "source": [
    "# stratified sampling"
   ]
  },
  {
   "cell_type": "code",
   "execution_count": 12,
   "metadata": {},
   "outputs": [
    {
     "name": "stdout",
     "output_type": "stream",
     "text": [
      "0\n"
     ]
    },
    {
     "data": {
      "text/plain": [
       "array(['<= $75,000, Above Poverty'], dtype=object)"
      ]
     },
     "execution_count": 12,
     "metadata": {},
     "output_type": "execute_result"
    }
   ],
   "source": [
    "from sklearn.impute import SimpleImputer\n",
    "imputer = SimpleImputer(strategy='most_frequent')\n",
    "\n",
    "income_poverty = imputer.fit_transform(fludata1[['income_poverty']])\n",
    "fludata1['income_poverty'] = income_poverty\n",
    "\n",
    "print(fludata1['income_poverty'].isnull().sum())\n",
    "imputer.statistics_\n"
   ]
  },
  {
   "cell_type": "code",
   "execution_count": 13,
   "metadata": {},
   "outputs": [],
   "source": [
    "#from sklearn.model_selection import StratifiedShuffleSplit\n",
    "\n",
    "#split = StratifiedShuffleSplit(n_splits=1,test_size=0.2,random_state=52)\n",
    "#for train_index,test_index in split.split(fludata1,fludata1['income_poverty']):\n",
    "    #strat_train_set = fludata.loc[train_index]\n",
    "    #strat_test_set = fludata.loc[test_index]"
   ]
  },
  {
   "cell_type": "code",
   "execution_count": 14,
   "metadata": {},
   "outputs": [
    {
     "name": "stdout",
     "output_type": "stream",
     "text": [
      "StratifiedShuffleSplit(n_splits=1, random_state=52, test_size=0.2,\n",
      "            train_size=None)\n"
     ]
    }
   ],
   "source": [
    "#print(split)"
   ]
  },
  {
   "cell_type": "code",
   "execution_count": 17,
   "metadata": {},
   "outputs": [
    {
     "data": {
      "text/plain": [
       "<= $75,000, Above Poverty    0.474167\n",
       "> $75,000                    0.254961\n",
       "Below Poverty                0.101086\n",
       "Name: income_poverty, dtype: float64"
      ]
     },
     "execution_count": 17,
     "metadata": {},
     "output_type": "execute_result"
    }
   ],
   "source": [
    "#strat_test_set['income_poverty'].value_counts()/len(strat_test_set)"
   ]
  },
  {
   "cell_type": "code",
   "execution_count": 18,
   "metadata": {},
   "outputs": [
    {
     "data": {
      "text/plain": [
       "<= $75,000, Above Poverty    0.644026\n",
       "> $75,000                    0.254989\n",
       "Below Poverty                0.100985\n",
       "Name: income_poverty, dtype: float64"
      ]
     },
     "execution_count": 18,
     "metadata": {},
     "output_type": "execute_result"
    }
   ],
   "source": [
    "#fludata1['income_poverty'].value_counts()/len(fludata1)"
   ]
  },
  {
   "cell_type": "markdown",
   "metadata": {},
   "source": [
    "# Imputation"
   ]
  },
  {
   "cell_type": "code",
   "execution_count": 8,
   "metadata": {
    "scrolled": true
   },
   "outputs": [
    {
     "data": {
      "text/plain": [
       "respondent_id_x                    0\n",
       "h1n1_concern                      92\n",
       "h1n1_knowledge                   116\n",
       "behavioral_antiviral_meds         71\n",
       "behavioral_avoidance             208\n",
       "behavioral_face_mask              19\n",
       "behavioral_wash_hands             42\n",
       "behavioral_large_gatherings       87\n",
       "behavioral_outside_home           82\n",
       "behavioral_touch_face            128\n",
       "doctor_recc_h1n1                2160\n",
       "doctor_recc_seasonal            2160\n",
       "chronic_med_condition            971\n",
       "child_under_6_months             820\n",
       "health_worker                    804\n",
       "health_insurance               12274\n",
       "opinion_h1n1_vacc_effective      391\n",
       "opinion_h1n1_risk                388\n",
       "opinion_h1n1_sick_from_vacc      395\n",
       "opinion_seas_vacc_effective      462\n",
       "opinion_seas_risk                514\n",
       "opinion_seas_sick_from_vacc      537\n",
       "age_group                          0\n",
       "education                       1407\n",
       "race                               0\n",
       "sex                                0\n",
       "income_poverty                  4423\n",
       "marital_status                  1408\n",
       "rent_or_own                     2042\n",
       "employment_status               1463\n",
       "hhs_geo_region                     0\n",
       "census_msa                         0\n",
       "household_adults                 249\n",
       "household_children               249\n",
       "employment_industry            13330\n",
       "employment_occupation          13470\n",
       "respondent_id_y                    0\n",
       "h1n1_vaccine                       0\n",
       "seasonal_vaccine                   0\n",
       "dtype: int64"
      ]
     },
     "execution_count": 8,
     "metadata": {},
     "output_type": "execute_result"
    }
   ],
   "source": [
    "fludata1.isnull().sum()"
   ]
  },
  {
   "cell_type": "code",
   "execution_count": 9,
   "metadata": {},
   "outputs": [
    {
     "data": {
      "text/plain": [
       "(26707, 39)"
      ]
     },
     "execution_count": 9,
     "metadata": {},
     "output_type": "execute_result"
    }
   ],
   "source": [
    "fludata1.shape"
   ]
  },
  {
   "cell_type": "markdown",
   "metadata": {},
   "source": [
    "Will predict health insurance(binary classification), employment industry and employment occupation(multiclass classification)"
   ]
  },
  {
   "cell_type": "code",
   "execution_count": 33,
   "metadata": {},
   "outputs": [
    {
     "data": {
      "text/plain": [
       "(26707, 36)"
      ]
     },
     "execution_count": 33,
     "metadata": {},
     "output_type": "execute_result"
    }
   ],
   "source": [
    "fludata_imp = fludata1.drop(['health_insurance','employment_industry','employment_occupation'],axis=1)\n",
    "fludata_imp.shape"
   ]
  },
  {
   "cell_type": "code",
   "execution_count": 34,
   "metadata": {},
   "outputs": [
    {
     "data": {
      "text/plain": [
       "(26707, 36)"
      ]
     },
     "execution_count": 34,
     "metadata": {},
     "output_type": "execute_result"
    }
   ],
   "source": [
    "from sklearn.impute import SimpleImputer\n",
    "imputer = SimpleImputer(strategy = 'most_frequent')\n",
    "fludata_imp_np = imputer.fit_transform(fludata_imp)\n",
    "fludata_imp_df = pd.DataFrame(data = fludata_imp_np,columns = fludata_imp.columns )\n",
    "fludata_imp_df.shape"
   ]
  },
  {
   "cell_type": "code",
   "execution_count": 35,
   "metadata": {},
   "outputs": [
    {
     "data": {
      "text/plain": [
       "(26707, 34)"
      ]
     },
     "execution_count": 35,
     "metadata": {},
     "output_type": "execute_result"
    }
   ],
   "source": [
    "fludata_imp_df.drop(['respondent_id_x','respondent_id_y'],axis=1,inplace=True)\n",
    "fludata_imp_df.shape"
   ]
  },
  {
   "cell_type": "code",
   "execution_count": 49,
   "metadata": {},
   "outputs": [
    {
     "name": "stdout",
     "output_type": "stream",
     "text": [
      "h1n1_concern : 4\n",
      "h1n1_knowledge : 3\n",
      "behavioral_antiviral_meds : 2\n",
      "behavioral_avoidance : 2\n",
      "behavioral_face_mask : 2\n",
      "behavioral_wash_hands : 2\n",
      "behavioral_large_gatherings : 2\n",
      "behavioral_outside_home : 2\n",
      "behavioral_touch_face : 2\n",
      "doctor_recc_h1n1 : 2\n",
      "doctor_recc_seasonal : 2\n",
      "chronic_med_condition : 2\n",
      "child_under_6_months : 2\n",
      "health_worker : 2\n",
      "opinion_h1n1_vacc_effective : 5\n",
      "opinion_h1n1_risk : 5\n",
      "opinion_h1n1_sick_from_vacc : 5\n",
      "opinion_seas_vacc_effective : 5\n",
      "opinion_seas_risk : 5\n",
      "opinion_seas_sick_from_vacc : 5\n",
      "age_group : 5\n",
      "education : 4\n",
      "race : 4\n",
      "sex : 2\n",
      "income_poverty : 3\n",
      "marital_status : 2\n",
      "rent_or_own : 2\n",
      "employment_status : 3\n",
      "hhs_geo_region : 10\n",
      "census_msa : 3\n",
      "household_adults : 4\n",
      "household_children : 4\n",
      "h1n1_vaccine : 2\n",
      "seasonal_vaccine : 2\n"
     ]
    }
   ],
   "source": [
    "i = 0\n",
    "while i<34:\n",
    "    b = fludata_imp_df.columns[i]\n",
    "    a = str(len(fludata_imp_df[b].value_counts()))\n",
    "    print(b + ' : '+ a)\n",
    "    i += 1\n"
   ]
  },
  {
   "cell_type": "code",
   "execution_count": 36,
   "metadata": {},
   "outputs": [
    {
     "data": {
      "text/plain": [
       "(26707, 12)"
      ]
     },
     "execution_count": 36,
     "metadata": {},
     "output_type": "execute_result"
    }
   ],
   "source": [
    "categorical_attribs = ['age_group','education','race','sex','income_poverty',\n",
    "                       'marital_status','rent_or_own','employment_status',\n",
    "                       'hhs_geo_region','census_msa','household_adults','household_children']\n",
    "\n",
    "oe_fludata = fludata_imp_df[categorical_attribs]\n",
    "fludata_imp_df.drop(categorical_attribs,axis=1,inplace=True)\n",
    "oe_fludata.shape"
   ]
  },
  {
   "cell_type": "code",
   "execution_count": 37,
   "metadata": {},
   "outputs": [
    {
     "data": {
      "text/plain": [
       "[array(['18 - 34 Years', '35 - 44 Years', '45 - 54 Years', '55 - 64 Years',\n",
       "        '65+ Years'], dtype=object),\n",
       " array(['12 Years', '< 12 Years', 'College Graduate', 'Some College'],\n",
       "       dtype=object),\n",
       " array(['Black', 'Hispanic', 'Other or Multiple', 'White'], dtype=object),\n",
       " array(['Female', 'Male'], dtype=object),\n",
       " array(['<= $75,000, Above Poverty', '> $75,000', 'Below Poverty'],\n",
       "       dtype=object),\n",
       " array(['Married', 'Not Married'], dtype=object),\n",
       " array(['Own', 'Rent'], dtype=object),\n",
       " array(['Employed', 'Not in Labor Force', 'Unemployed'], dtype=object),\n",
       " array(['atmpeygn', 'bhuqouqj', 'dqpwygqj', 'fpwskwrf', 'kbazzjca',\n",
       "        'lrircsnp', 'lzgpxyit', 'mlyzmhmf', 'oxchjgsf', 'qufhixun'],\n",
       "       dtype=object),\n",
       " array(['MSA, Not Principle  City', 'MSA, Principle City', 'Non-MSA'],\n",
       "       dtype=object),\n",
       " array([0.0, 1.0, 2.0, 3.0], dtype=object),\n",
       " array([0.0, 1.0, 2.0, 3.0], dtype=object)]"
      ]
     },
     "execution_count": 37,
     "metadata": {},
     "output_type": "execute_result"
    }
   ],
   "source": [
    "\n",
    "from sklearn.preprocessing import OrdinalEncoder\n",
    "oe = OrdinalEncoder()\n",
    "oe_fludata_np = oe.fit_transform(oe_fludata)\n",
    "oe.categories_"
   ]
  },
  {
   "cell_type": "code",
   "execution_count": 38,
   "metadata": {},
   "outputs": [
    {
     "data": {
      "text/plain": [
       "(26707, 34)"
      ]
     },
     "execution_count": 38,
     "metadata": {},
     "output_type": "execute_result"
    }
   ],
   "source": [
    "oe_fludata_df = pd.DataFrame(data = oe_fludata_np,columns = oe_fludata.columns )\n",
    "fludata_imp_df1 = pd.merge(left=fludata_imp_df, left_index=True,right=oe_fludata_df, right_index=True,\n",
    "                  how='inner')\n",
    "fludata_imp_df1.shape"
   ]
  },
  {
   "cell_type": "code",
   "execution_count": 39,
   "metadata": {},
   "outputs": [
    {
     "name": "stdout",
     "output_type": "stream",
     "text": [
      "<class 'pandas.core.frame.DataFrame'>\n",
      "RangeIndex: 26707 entries, 0 to 26706\n",
      "Data columns (total 34 columns):\n",
      "h1n1_concern                   26707 non-null float64\n",
      "h1n1_knowledge                 26707 non-null float64\n",
      "behavioral_antiviral_meds      26707 non-null float64\n",
      "behavioral_avoidance           26707 non-null float64\n",
      "behavioral_face_mask           26707 non-null float64\n",
      "behavioral_wash_hands          26707 non-null float64\n",
      "behavioral_large_gatherings    26707 non-null float64\n",
      "behavioral_outside_home        26707 non-null float64\n",
      "behavioral_touch_face          26707 non-null float64\n",
      "doctor_recc_h1n1               26707 non-null float64\n",
      "doctor_recc_seasonal           26707 non-null float64\n",
      "chronic_med_condition          26707 non-null float64\n",
      "child_under_6_months           26707 non-null float64\n",
      "health_worker                  26707 non-null float64\n",
      "opinion_h1n1_vacc_effective    26707 non-null float64\n",
      "opinion_h1n1_risk              26707 non-null float64\n",
      "opinion_h1n1_sick_from_vacc    26707 non-null float64\n",
      "opinion_seas_vacc_effective    26707 non-null float64\n",
      "opinion_seas_risk              26707 non-null float64\n",
      "opinion_seas_sick_from_vacc    26707 non-null float64\n",
      "h1n1_vaccine                   26707 non-null int64\n",
      "seasonal_vaccine               26707 non-null int64\n",
      "age_group                      26707 non-null float64\n",
      "education                      26707 non-null float64\n",
      "race                           26707 non-null float64\n",
      "sex                            26707 non-null float64\n",
      "income_poverty                 26707 non-null float64\n",
      "marital_status                 26707 non-null float64\n",
      "rent_or_own                    26707 non-null float64\n",
      "employment_status              26707 non-null float64\n",
      "hhs_geo_region                 26707 non-null float64\n",
      "census_msa                     26707 non-null float64\n",
      "household_adults               26707 non-null float64\n",
      "household_children             26707 non-null float64\n",
      "dtypes: float64(32), int64(2)\n",
      "memory usage: 6.9 MB\n"
     ]
    }
   ],
   "source": [
    "fludata_imp_df1 = fludata_imp_df1.apply(pd.to_numeric, errors='ignore')\n",
    "fludata_imp_df1.info()"
   ]
  },
  {
   "cell_type": "markdown",
   "metadata": {},
   "source": [
    "predicting Missing values in columns"
   ]
  },
  {
   "cell_type": "code",
   "execution_count": 49,
   "metadata": {},
   "outputs": [
    {
     "name": "stdout",
     "output_type": "stream",
     "text": [
      "<class 'pandas.core.frame.DataFrame'>\n",
      "RangeIndex: 26707 entries, 0 to 26706\n",
      "Data columns (total 3 columns):\n",
      "health_insurance         14433 non-null float64\n",
      "employment_industry      13377 non-null object\n",
      "employment_occupation    13237 non-null object\n",
      "dtypes: float64(1), object(2)\n",
      "memory usage: 626.0+ KB\n"
     ]
    }
   ],
   "source": [
    "target_col = fludata1[['health_insurance','employment_industry','employment_occupation']]\n",
    "target_col.info()"
   ]
  },
  {
   "cell_type": "code",
   "execution_count": 59,
   "metadata": {},
   "outputs": [
    {
     "data": {
      "text/plain": [
       "(26707, 35)"
      ]
     },
     "execution_count": 59,
     "metadata": {},
     "output_type": "execute_result"
    }
   ],
   "source": [
    "flu_HI = pd.merge(left=fludata_imp_df1, left_index=True,right=target_col[['health_insurance']], right_index=True,\n",
    "                  how='inner')\n",
    "flu_HI.shape"
   ]
  },
  {
   "cell_type": "markdown",
   "metadata": {},
   "source": []
  },
  {
   "cell_type": "markdown",
   "metadata": {},
   "source": [
    "Splitting it in train and test Set"
   ]
  },
  {
   "cell_type": "markdown",
   "metadata": {},
   "source": [
    "Health Insurance"
   ]
  },
  {
   "cell_type": "code",
   "execution_count": 61,
   "metadata": {},
   "outputs": [
    {
     "name": "stdout",
     "output_type": "stream",
     "text": [
      "(14433, 35)\n",
      "(12274, 35)\n"
     ]
    }
   ],
   "source": [
    "train = flu_HI[flu_HI['health_insurance'].notnull()]\n",
    "test = flu_HI[flu_HI['health_insurance'].isnull()]\n",
    "print(train.shape)\n",
    "print(test.shape)"
   ]
  },
  {
   "cell_type": "code",
   "execution_count": 92,
   "metadata": {},
   "outputs": [],
   "source": [
    "X_train = train.iloc[:,:34]\n",
    "X_test = test.iloc[:,:34]\n",
    "y_train = train.iloc[:,34:]\n",
    "y_test = test.iloc[:,34:]"
   ]
  },
  {
   "cell_type": "code",
   "execution_count": 78,
   "metadata": {},
   "outputs": [
    {
     "name": "stderr",
     "output_type": "stream",
     "text": [
      "F:\\Anaconda\\lib\\site-packages\\sklearn\\ensemble\\forest.py:245: FutureWarning: The default value of n_estimators will change from 10 in version 0.20 to 100 in 0.22.\n",
      "  \"10 in version 0.20 to 100 in 0.22.\", FutureWarning)\n",
      "F:\\Anaconda\\lib\\site-packages\\ipykernel_launcher.py:3: DataConversionWarning: A column-vector y was passed when a 1d array was expected. Please change the shape of y to (n_samples,), for example using ravel().\n",
      "  This is separate from the ipykernel package so we can avoid doing imports until\n"
     ]
    },
    {
     "data": {
      "text/plain": [
       "numpy.ndarray"
      ]
     },
     "execution_count": 78,
     "metadata": {},
     "output_type": "execute_result"
    }
   ],
   "source": [
    "from sklearn.ensemble import RandomForestClassifier\n",
    "Rf_clf = RandomForestClassifier(random_state=45)\n",
    "Rf_clf.fit(X_train,y_train)\n",
    "y_pred = Rf_clf.predict(X_test)\n",
    "type(y_train)"
   ]
  },
  {
   "cell_type": "code",
   "execution_count": 96,
   "metadata": {},
   "outputs": [],
   "source": [
    "y_train = y_train.values.reshape(-1)"
   ]
  },
  {
   "cell_type": "code",
   "execution_count": 99,
   "metadata": {},
   "outputs": [
    {
     "data": {
      "text/plain": [
       "26707"
      ]
     },
     "execution_count": 99,
     "metadata": {},
     "output_type": "execute_result"
    }
   ],
   "source": [
    "import numpy as np\n",
    "y_fin = np.concatenate((y_train,y_pred))\n",
    "len(y_fin)"
   ]
  },
  {
   "cell_type": "code",
   "execution_count": 106,
   "metadata": {},
   "outputs": [
    {
     "name": "stdout",
     "output_type": "stream",
     "text": [
      "<class 'pandas.core.frame.DataFrame'>\n",
      "RangeIndex: 26707 entries, 0 to 26706\n",
      "Data columns (total 4 columns):\n",
      "health_insurance         14433 non-null float64\n",
      "employment_industry      13377 non-null object\n",
      "employment_occupation    13237 non-null object\n",
      "health_insurance_fin     26707 non-null float64\n",
      "dtypes: float64(2), object(2)\n",
      "memory usage: 834.7+ KB\n"
     ]
    },
    {
     "name": "stderr",
     "output_type": "stream",
     "text": [
      "F:\\Anaconda\\lib\\site-packages\\ipykernel_launcher.py:1: SettingWithCopyWarning: \n",
      "A value is trying to be set on a copy of a slice from a DataFrame.\n",
      "Try using .loc[row_indexer,col_indexer] = value instead\n",
      "\n",
      "See the caveats in the documentation: http://pandas.pydata.org/pandas-docs/stable/indexing.html#indexing-view-versus-copy\n",
      "  \"\"\"Entry point for launching an IPython kernel.\n"
     ]
    }
   ],
   "source": [
    "target_col['health_insurance_fin'] = y_fin\n",
    "target_col.info()"
   ]
  },
  {
   "cell_type": "markdown",
   "metadata": {},
   "source": [
    "employment industry"
   ]
  },
  {
   "cell_type": "code",
   "execution_count": 126,
   "metadata": {},
   "outputs": [
    {
     "data": {
      "text/plain": [
       "(26707, 35)"
      ]
     },
     "execution_count": 126,
     "metadata": {},
     "output_type": "execute_result"
    }
   ],
   "source": [
    "flu_EI = pd.merge(left=fludata_imp_df1, left_index=True,right=target_col[['employment_industry']], right_index=True,\n",
    "                  how='inner')\n",
    "flu_EI.shape"
   ]
  },
  {
   "cell_type": "code",
   "execution_count": 127,
   "metadata": {},
   "outputs": [
    {
     "name": "stdout",
     "output_type": "stream",
     "text": [
      "(13377, 35)\n",
      "(13330, 35)\n"
     ]
    }
   ],
   "source": [
    "train = flu_EI[flu_EI['employment_industry'].notnull()]\n",
    "test = flu_EI[flu_EI['employment_industry'].isnull()]\n",
    "print(train.shape)\n",
    "print(test.shape)"
   ]
  },
  {
   "cell_type": "code",
   "execution_count": 128,
   "metadata": {},
   "outputs": [
    {
     "name": "stdout",
     "output_type": "stream",
     "text": [
      "<class 'pandas.core.frame.DataFrame'>\n",
      "RangeIndex: 13377 entries, 0 to 13376\n",
      "Data columns (total 35 columns):\n",
      "h1n1_concern                   13377 non-null float64\n",
      "h1n1_knowledge                 13377 non-null float64\n",
      "behavioral_antiviral_meds      13377 non-null float64\n",
      "behavioral_avoidance           13377 non-null float64\n",
      "behavioral_face_mask           13377 non-null float64\n",
      "behavioral_wash_hands          13377 non-null float64\n",
      "behavioral_large_gatherings    13377 non-null float64\n",
      "behavioral_outside_home        13377 non-null float64\n",
      "behavioral_touch_face          13377 non-null float64\n",
      "doctor_recc_h1n1               13377 non-null float64\n",
      "doctor_recc_seasonal           13377 non-null float64\n",
      "chronic_med_condition          13377 non-null float64\n",
      "child_under_6_months           13377 non-null float64\n",
      "health_worker                  13377 non-null float64\n",
      "opinion_h1n1_vacc_effective    13377 non-null float64\n",
      "opinion_h1n1_risk              13377 non-null float64\n",
      "opinion_h1n1_sick_from_vacc    13377 non-null float64\n",
      "opinion_seas_vacc_effective    13377 non-null float64\n",
      "opinion_seas_risk              13377 non-null float64\n",
      "opinion_seas_sick_from_vacc    13377 non-null float64\n",
      "h1n1_vaccine                   13377 non-null float64\n",
      "seasonal_vaccine               13377 non-null float64\n",
      "age_group                      13377 non-null float64\n",
      "education                      13377 non-null float64\n",
      "race                           13377 non-null float64\n",
      "sex                            13377 non-null float64\n",
      "income_poverty                 13377 non-null float64\n",
      "marital_status                 13377 non-null float64\n",
      "rent_or_own                    13377 non-null float64\n",
      "employment_status              13377 non-null float64\n",
      "hhs_geo_region                 13377 non-null float64\n",
      "census_msa                     13377 non-null float64\n",
      "household_adults               13377 non-null float64\n",
      "household_children             13377 non-null float64\n",
      "employment_industry            13377 non-null float64\n",
      "dtypes: float64(35)\n",
      "memory usage: 3.6 MB\n"
     ]
    }
   ],
   "source": [
    "train_np = oe.fit_transform(train)\n",
    "train = pd.DataFrame(data = train_np,columns = flu_EI.columns )\n",
    "train.info()"
   ]
  },
  {
   "cell_type": "code",
   "execution_count": 129,
   "metadata": {},
   "outputs": [],
   "source": [
    "X_train = train.iloc[:,:34]\n",
    "X_test = test.iloc[:,:34]\n",
    "y_train = train.iloc[:,34:]\n",
    "y_test = test.iloc[:,34:]"
   ]
  },
  {
   "cell_type": "code",
   "execution_count": 130,
   "metadata": {},
   "outputs": [
    {
     "name": "stderr",
     "output_type": "stream",
     "text": [
      "F:\\Anaconda\\lib\\site-packages\\sklearn\\ensemble\\forest.py:245: FutureWarning: The default value of n_estimators will change from 10 in version 0.20 to 100 in 0.22.\n",
      "  \"10 in version 0.20 to 100 in 0.22.\", FutureWarning)\n",
      "F:\\Anaconda\\lib\\site-packages\\ipykernel_launcher.py:3: DataConversionWarning: A column-vector y was passed when a 1d array was expected. Please change the shape of y to (n_samples,), for example using ravel().\n",
      "  This is separate from the ipykernel package so we can avoid doing imports until\n"
     ]
    },
    {
     "data": {
      "text/plain": [
       "pandas.core.frame.DataFrame"
      ]
     },
     "execution_count": 130,
     "metadata": {},
     "output_type": "execute_result"
    }
   ],
   "source": [
    "from sklearn.ensemble import RandomForestClassifier\n",
    "Rf_clf = RandomForestClassifier(random_state=45)\n",
    "Rf_clf.fit(X_train,y_train)\n",
    "y_pred = Rf_clf.predict(X_test)\n",
    "type(y_train)"
   ]
  },
  {
   "cell_type": "code",
   "execution_count": 131,
   "metadata": {},
   "outputs": [],
   "source": [
    "y_train = y_train.values.reshape(-1)"
   ]
  },
  {
   "cell_type": "code",
   "execution_count": 132,
   "metadata": {},
   "outputs": [
    {
     "data": {
      "text/plain": [
       "26707"
      ]
     },
     "execution_count": 132,
     "metadata": {},
     "output_type": "execute_result"
    }
   ],
   "source": [
    "import numpy as np\n",
    "y_fin = np.concatenate((y_train,y_pred))\n",
    "len(y_fin)"
   ]
  },
  {
   "cell_type": "code",
   "execution_count": 133,
   "metadata": {},
   "outputs": [
    {
     "name": "stdout",
     "output_type": "stream",
     "text": [
      "<class 'pandas.core.frame.DataFrame'>\n",
      "RangeIndex: 26707 entries, 0 to 26706\n",
      "Data columns (total 5 columns):\n",
      "health_insurance           14433 non-null float64\n",
      "employment_industry        13377 non-null object\n",
      "employment_occupation      13237 non-null object\n",
      "health_insurance_fin       26707 non-null float64\n",
      "employment_industry_fin    26707 non-null float64\n",
      "dtypes: float64(3), object(2)\n",
      "memory usage: 1.0+ MB\n"
     ]
    },
    {
     "name": "stderr",
     "output_type": "stream",
     "text": [
      "F:\\Anaconda\\lib\\site-packages\\ipykernel_launcher.py:1: SettingWithCopyWarning: \n",
      "A value is trying to be set on a copy of a slice from a DataFrame.\n",
      "Try using .loc[row_indexer,col_indexer] = value instead\n",
      "\n",
      "See the caveats in the documentation: http://pandas.pydata.org/pandas-docs/stable/indexing.html#indexing-view-versus-copy\n",
      "  \"\"\"Entry point for launching an IPython kernel.\n"
     ]
    }
   ],
   "source": [
    "target_col['employment_industry_fin'] = y_fin\n",
    "target_col.info()"
   ]
  },
  {
   "cell_type": "markdown",
   "metadata": {},
   "source": [
    "employment_occupation"
   ]
  },
  {
   "cell_type": "code",
   "execution_count": 134,
   "metadata": {},
   "outputs": [
    {
     "data": {
      "text/plain": [
       "(26707, 35)"
      ]
     },
     "execution_count": 134,
     "metadata": {},
     "output_type": "execute_result"
    }
   ],
   "source": [
    "flu_EO = pd.merge(left=fludata_imp_df1, left_index=True,right=target_col[['employment_occupation']], right_index=True,\n",
    "                  how='inner')\n",
    "flu_EO.shape"
   ]
  },
  {
   "cell_type": "code",
   "execution_count": 135,
   "metadata": {},
   "outputs": [
    {
     "name": "stdout",
     "output_type": "stream",
     "text": [
      "(13237, 35)\n",
      "(13470, 35)\n"
     ]
    }
   ],
   "source": [
    "train = flu_EO[flu_EO['employment_occupation'].notnull()]\n",
    "test = flu_EO[flu_EO['employment_occupation'].isnull()]\n",
    "print(train.shape)\n",
    "print(test.shape)"
   ]
  },
  {
   "cell_type": "code",
   "execution_count": 136,
   "metadata": {},
   "outputs": [
    {
     "name": "stdout",
     "output_type": "stream",
     "text": [
      "<class 'pandas.core.frame.DataFrame'>\n",
      "RangeIndex: 13237 entries, 0 to 13236\n",
      "Data columns (total 35 columns):\n",
      "h1n1_concern                   13237 non-null float64\n",
      "h1n1_knowledge                 13237 non-null float64\n",
      "behavioral_antiviral_meds      13237 non-null float64\n",
      "behavioral_avoidance           13237 non-null float64\n",
      "behavioral_face_mask           13237 non-null float64\n",
      "behavioral_wash_hands          13237 non-null float64\n",
      "behavioral_large_gatherings    13237 non-null float64\n",
      "behavioral_outside_home        13237 non-null float64\n",
      "behavioral_touch_face          13237 non-null float64\n",
      "doctor_recc_h1n1               13237 non-null float64\n",
      "doctor_recc_seasonal           13237 non-null float64\n",
      "chronic_med_condition          13237 non-null float64\n",
      "child_under_6_months           13237 non-null float64\n",
      "health_worker                  13237 non-null float64\n",
      "opinion_h1n1_vacc_effective    13237 non-null float64\n",
      "opinion_h1n1_risk              13237 non-null float64\n",
      "opinion_h1n1_sick_from_vacc    13237 non-null float64\n",
      "opinion_seas_vacc_effective    13237 non-null float64\n",
      "opinion_seas_risk              13237 non-null float64\n",
      "opinion_seas_sick_from_vacc    13237 non-null float64\n",
      "h1n1_vaccine                   13237 non-null float64\n",
      "seasonal_vaccine               13237 non-null float64\n",
      "age_group                      13237 non-null float64\n",
      "education                      13237 non-null float64\n",
      "race                           13237 non-null float64\n",
      "sex                            13237 non-null float64\n",
      "income_poverty                 13237 non-null float64\n",
      "marital_status                 13237 non-null float64\n",
      "rent_or_own                    13237 non-null float64\n",
      "employment_status              13237 non-null float64\n",
      "hhs_geo_region                 13237 non-null float64\n",
      "census_msa                     13237 non-null float64\n",
      "household_adults               13237 non-null float64\n",
      "household_children             13237 non-null float64\n",
      "employment_occupation          13237 non-null float64\n",
      "dtypes: float64(35)\n",
      "memory usage: 3.5 MB\n"
     ]
    }
   ],
   "source": [
    "train_np = oe.fit_transform(train)\n",
    "train = pd.DataFrame(data = train_np,columns = flu_EO.columns)\n",
    "train.info()"
   ]
  },
  {
   "cell_type": "code",
   "execution_count": 137,
   "metadata": {},
   "outputs": [],
   "source": [
    "X_train = train.iloc[:,:34]\n",
    "X_test = test.iloc[:,:34]\n",
    "y_train = train.iloc[:,34:]\n",
    "y_test = test.iloc[:,34:]"
   ]
  },
  {
   "cell_type": "code",
   "execution_count": 138,
   "metadata": {},
   "outputs": [
    {
     "name": "stderr",
     "output_type": "stream",
     "text": [
      "F:\\Anaconda\\lib\\site-packages\\sklearn\\ensemble\\forest.py:245: FutureWarning: The default value of n_estimators will change from 10 in version 0.20 to 100 in 0.22.\n",
      "  \"10 in version 0.20 to 100 in 0.22.\", FutureWarning)\n",
      "F:\\Anaconda\\lib\\site-packages\\ipykernel_launcher.py:3: DataConversionWarning: A column-vector y was passed when a 1d array was expected. Please change the shape of y to (n_samples,), for example using ravel().\n",
      "  This is separate from the ipykernel package so we can avoid doing imports until\n"
     ]
    },
    {
     "data": {
      "text/plain": [
       "pandas.core.frame.DataFrame"
      ]
     },
     "execution_count": 138,
     "metadata": {},
     "output_type": "execute_result"
    }
   ],
   "source": [
    "from sklearn.ensemble import RandomForestClassifier\n",
    "Rf_clf = RandomForestClassifier(random_state=45)\n",
    "Rf_clf.fit(X_train,y_train)\n",
    "y_pred = Rf_clf.predict(X_test)\n",
    "type(y_train)"
   ]
  },
  {
   "cell_type": "code",
   "execution_count": 139,
   "metadata": {},
   "outputs": [],
   "source": [
    "y_train = y_train.values.reshape(-1)"
   ]
  },
  {
   "cell_type": "code",
   "execution_count": 140,
   "metadata": {},
   "outputs": [
    {
     "data": {
      "text/plain": [
       "26707"
      ]
     },
     "execution_count": 140,
     "metadata": {},
     "output_type": "execute_result"
    }
   ],
   "source": [
    "import numpy as np\n",
    "y_fin = np.concatenate((y_train,y_pred))\n",
    "len(y_fin)"
   ]
  },
  {
   "cell_type": "code",
   "execution_count": 141,
   "metadata": {},
   "outputs": [
    {
     "name": "stdout",
     "output_type": "stream",
     "text": [
      "<class 'pandas.core.frame.DataFrame'>\n",
      "RangeIndex: 26707 entries, 0 to 26706\n",
      "Data columns (total 6 columns):\n",
      "health_insurance             14433 non-null float64\n",
      "employment_industry          13377 non-null object\n",
      "employment_occupation        13237 non-null object\n",
      "health_insurance_fin         26707 non-null float64\n",
      "employment_industry_fin      26707 non-null float64\n",
      "employment_occupation_fin    26707 non-null float64\n",
      "dtypes: float64(4), object(2)\n",
      "memory usage: 1.2+ MB\n"
     ]
    },
    {
     "name": "stderr",
     "output_type": "stream",
     "text": [
      "F:\\Anaconda\\lib\\site-packages\\ipykernel_launcher.py:1: SettingWithCopyWarning: \n",
      "A value is trying to be set on a copy of a slice from a DataFrame.\n",
      "Try using .loc[row_indexer,col_indexer] = value instead\n",
      "\n",
      "See the caveats in the documentation: http://pandas.pydata.org/pandas-docs/stable/indexing.html#indexing-view-versus-copy\n",
      "  \"\"\"Entry point for launching an IPython kernel.\n"
     ]
    }
   ],
   "source": [
    "target_col['employment_occupation_fin'] = y_fin\n",
    "target_col.info()"
   ]
  },
  {
   "cell_type": "code",
   "execution_count": 145,
   "metadata": {},
   "outputs": [
    {
     "name": "stderr",
     "output_type": "stream",
     "text": [
      "F:\\Anaconda\\lib\\site-packages\\pandas\\core\\frame.py:3697: SettingWithCopyWarning: \n",
      "A value is trying to be set on a copy of a slice from a DataFrame\n",
      "\n",
      "See the caveats in the documentation: http://pandas.pydata.org/pandas-docs/stable/indexing.html#indexing-view-versus-copy\n",
      "  errors=errors)\n"
     ]
    }
   ],
   "source": [
    "target_col.drop(['employment_occupation','employment_industry','health_insurance'],axis=1,inplace=True)"
   ]
  },
  {
   "cell_type": "code",
   "execution_count": 147,
   "metadata": {},
   "outputs": [
    {
     "name": "stdout",
     "output_type": "stream",
     "text": [
      "<class 'pandas.core.frame.DataFrame'>\n",
      "RangeIndex: 26707 entries, 0 to 26706\n",
      "Data columns (total 3 columns):\n",
      "health_insurance_fin         26707 non-null float64\n",
      "employment_industry_fin      26707 non-null float64\n",
      "employment_occupation_fin    26707 non-null float64\n",
      "dtypes: float64(3)\n",
      "memory usage: 626.0 KB\n"
     ]
    }
   ],
   "source": [
    "target_col.info()"
   ]
  },
  {
   "cell_type": "markdown",
   "metadata": {},
   "source": [
    "Preparing Final data"
   ]
  },
  {
   "cell_type": "code",
   "execution_count": 148,
   "metadata": {},
   "outputs": [
    {
     "data": {
      "text/plain": [
       "(26707, 37)"
      ]
     },
     "execution_count": 148,
     "metadata": {},
     "output_type": "execute_result"
    }
   ],
   "source": [
    "flu_final = pd.merge(left=fludata_imp_df1, left_index=True,right=target_col, right_index=True,\n",
    "                  how='inner')\n",
    "flu_final.shape"
   ]
  },
  {
   "cell_type": "code",
   "execution_count": 149,
   "metadata": {},
   "outputs": [
    {
     "name": "stdout",
     "output_type": "stream",
     "text": [
      "<class 'pandas.core.frame.DataFrame'>\n",
      "RangeIndex: 26707 entries, 0 to 26706\n",
      "Data columns (total 37 columns):\n",
      "h1n1_concern                   26707 non-null float64\n",
      "h1n1_knowledge                 26707 non-null float64\n",
      "behavioral_antiviral_meds      26707 non-null float64\n",
      "behavioral_avoidance           26707 non-null float64\n",
      "behavioral_face_mask           26707 non-null float64\n",
      "behavioral_wash_hands          26707 non-null float64\n",
      "behavioral_large_gatherings    26707 non-null float64\n",
      "behavioral_outside_home        26707 non-null float64\n",
      "behavioral_touch_face          26707 non-null float64\n",
      "doctor_recc_h1n1               26707 non-null float64\n",
      "doctor_recc_seasonal           26707 non-null float64\n",
      "chronic_med_condition          26707 non-null float64\n",
      "child_under_6_months           26707 non-null float64\n",
      "health_worker                  26707 non-null float64\n",
      "opinion_h1n1_vacc_effective    26707 non-null float64\n",
      "opinion_h1n1_risk              26707 non-null float64\n",
      "opinion_h1n1_sick_from_vacc    26707 non-null float64\n",
      "opinion_seas_vacc_effective    26707 non-null float64\n",
      "opinion_seas_risk              26707 non-null float64\n",
      "opinion_seas_sick_from_vacc    26707 non-null float64\n",
      "h1n1_vaccine                   26707 non-null int64\n",
      "seasonal_vaccine               26707 non-null int64\n",
      "age_group                      26707 non-null float64\n",
      "education                      26707 non-null float64\n",
      "race                           26707 non-null float64\n",
      "sex                            26707 non-null float64\n",
      "income_poverty                 26707 non-null float64\n",
      "marital_status                 26707 non-null float64\n",
      "rent_or_own                    26707 non-null float64\n",
      "employment_status              26707 non-null float64\n",
      "hhs_geo_region                 26707 non-null float64\n",
      "census_msa                     26707 non-null float64\n",
      "household_adults               26707 non-null float64\n",
      "household_children             26707 non-null float64\n",
      "health_insurance_fin           26707 non-null float64\n",
      "employment_industry_fin        26707 non-null float64\n",
      "employment_occupation_fin      26707 non-null float64\n",
      "dtypes: float64(35), int64(2)\n",
      "memory usage: 7.5 MB\n"
     ]
    }
   ],
   "source": [
    "flu_final.info()"
   ]
  },
  {
   "cell_type": "code",
   "execution_count": 151,
   "metadata": {},
   "outputs": [],
   "source": [
    "flu_final.to_csv(r'C:\\Users\\Adrish Bir\\Desktop\\Data science &Machine Learning\\Flu\\Flu\\fludata_final.csv',index=False,header=True)"
   ]
  },
  {
   "cell_type": "code",
   "execution_count": 3,
   "metadata": {},
   "outputs": [
    {
     "name": "stdout",
     "output_type": "stream",
     "text": [
      "(26707, 37)\n"
     ]
    }
   ],
   "source": [
    "import pandas as pd\n",
    "fludata = pd.read_csv(r'C:\\Users\\Adrish Bir\\Desktop\\Data science &Machine Learning\\Flu\\Flu\\fludata_final.csv')\n",
    "print(fludata.shape)\n",
    "#fludata.head()"
   ]
  },
  {
   "cell_type": "code",
   "execution_count": 4,
   "metadata": {},
   "outputs": [],
   "source": [
    "fludata = fludata.astype('int64')\n",
    "#fludata.info()"
   ]
  },
  {
   "cell_type": "markdown",
   "metadata": {},
   "source": [
    "# Train test split"
   ]
  },
  {
   "cell_type": "code",
   "execution_count": 17,
   "metadata": {},
   "outputs": [],
   "source": [
    "from sklearn.model_selection import StratifiedKFold\n",
    "from sklearn.base import clone\n",
    "from skmultilearn.problem_transform import BinaryRelevance\n",
    "from sklearn.naive_bayes import GaussianNB"
   ]
  },
  {
   "cell_type": "code",
   "execution_count": 5,
   "metadata": {},
   "outputs": [
    {
     "name": "stdout",
     "output_type": "stream",
     "text": [
      "(26707, 35)\n",
      "(26707, 2)\n",
      "<class 'pandas.core.frame.DataFrame'>\n",
      "<class 'pandas.core.frame.DataFrame'>\n"
     ]
    }
   ],
   "source": [
    "X = fludata.drop(['h1n1_vaccine','seasonal_vaccine'],axis=1)\n",
    "y = fludata[['h1n1_vaccine','seasonal_vaccine']]\n",
    "print(X.shape)\n",
    "print(y.shape)\n",
    "print(type(X))\n",
    "print(type(y))"
   ]
  },
  {
   "cell_type": "markdown",
   "metadata": {},
   "source": [
    "Using Binary Relevance and gaussian NB"
   ]
  },
  {
   "cell_type": "code",
   "execution_count": 28,
   "metadata": {},
   "outputs": [
    {
     "data": {
      "text/plain": [
       "0.7954588700881643"
      ]
     },
     "execution_count": 28,
     "metadata": {},
     "output_type": "execute_result"
    }
   ],
   "source": [
    "from sklearn.metrics import roc_auc_score\n",
    "clf = BinaryRelevance(GaussianNB())\n",
    "\n",
    "from sklearn.model_selection import train_test_split\n",
    "X_train,X_test,y_train,y_test = train_test_split(X,y,test_size=0.3,random_state=48)\n",
    "\n",
    "clf.fit(X_train,y_train)\n",
    "y_scores = clf.predict_proba(X_test)\n",
    "y_scores = y_scores.toarray()\n",
    "roc_auc_score(y_test,y_scores)"
   ]
  },
  {
   "cell_type": "code",
   "execution_count": 29,
   "metadata": {},
   "outputs": [
    {
     "data": {
      "text/plain": [
       "array([[3.78200346e-03, 4.22726684e-02],\n",
       "       [9.99455748e-01, 9.99929760e-01],\n",
       "       [4.27081065e-04, 1.04856469e-02],\n",
       "       ...,\n",
       "       [8.03197089e-01, 9.53311138e-01],\n",
       "       [7.27042217e-03, 2.64038416e-02],\n",
       "       [2.37674271e-02, 1.56698587e-01]])"
      ]
     },
     "execution_count": 29,
     "metadata": {},
     "output_type": "execute_result"
    }
   ],
   "source": [
    "y_scores"
   ]
  },
  {
   "cell_type": "markdown",
   "metadata": {},
   "source": [
    "Using binary relevance and Random_forest_classifier"
   ]
  },
  {
   "cell_type": "code",
   "execution_count": 30,
   "metadata": {},
   "outputs": [
    {
     "name": "stderr",
     "output_type": "stream",
     "text": [
      "F:\\Anaconda\\lib\\site-packages\\sklearn\\ensemble\\forest.py:245: FutureWarning: The default value of n_estimators will change from 10 in version 0.20 to 100 in 0.22.\n",
      "  \"10 in version 0.20 to 100 in 0.22.\", FutureWarning)\n",
      "F:\\Anaconda\\lib\\site-packages\\sklearn\\ensemble\\forest.py:245: FutureWarning: The default value of n_estimators will change from 10 in version 0.20 to 100 in 0.22.\n",
      "  \"10 in version 0.20 to 100 in 0.22.\", FutureWarning)\n"
     ]
    },
    {
     "data": {
      "text/plain": [
       "0.7997887808284196"
      ]
     },
     "execution_count": 30,
     "metadata": {},
     "output_type": "execute_result"
    }
   ],
   "source": [
    "from sklearn.ensemble import RandomForestClassifier\n",
    "clf_forest = BinaryRelevance(RandomForestClassifier())\n",
    "clf_forest.fit(X_train,y_train)\n",
    "y_scores = clf_forest.predict_proba(X_test)\n",
    "y_scores = y_scores.toarray()\n",
    "roc_auc_score(y_test,y_scores)"
   ]
  },
  {
   "cell_type": "markdown",
   "metadata": {},
   "source": [
    "using classifier chain and Gaussian NB"
   ]
  },
  {
   "cell_type": "code",
   "execution_count": 32,
   "metadata": {},
   "outputs": [
    {
     "data": {
      "text/plain": [
       "0.7897451290695032"
      ]
     },
     "execution_count": 32,
     "metadata": {},
     "output_type": "execute_result"
    }
   ],
   "source": [
    "from skmultilearn.problem_transform import ClassifierChain\n",
    "\n",
    "clf = ClassifierChain(GaussianNB())\n",
    "clf.fit(X_train,y_train)\n",
    "y_scores = clf.predict_proba(X_test)\n",
    "y_scores = y_scores.toarray()\n",
    "\n",
    "roc_auc_score(y_test,y_scores)\n"
   ]
  },
  {
   "cell_type": "markdown",
   "metadata": {},
   "source": [
    "using classifier chain and Random forest classifier"
   ]
  },
  {
   "cell_type": "code",
   "execution_count": 33,
   "metadata": {},
   "outputs": [
    {
     "name": "stderr",
     "output_type": "stream",
     "text": [
      "F:\\Anaconda\\lib\\site-packages\\sklearn\\ensemble\\forest.py:245: FutureWarning: The default value of n_estimators will change from 10 in version 0.20 to 100 in 0.22.\n",
      "  \"10 in version 0.20 to 100 in 0.22.\", FutureWarning)\n"
     ]
    },
    {
     "data": {
      "text/plain": [
       "0.7952581037415032"
      ]
     },
     "execution_count": 33,
     "metadata": {},
     "output_type": "execute_result"
    }
   ],
   "source": [
    "clf_forest = ClassifierChain(RandomForestClassifier())\n",
    "clf_forest.fit(X_train,y_train)\n",
    "y_scores = clf_forest.predict_proba(X_test)\n",
    "y_scores = y_scores.toarray()\n",
    "roc_auc_score(y_test,y_scores)"
   ]
  },
  {
   "cell_type": "markdown",
   "metadata": {},
   "source": [
    "labelPowerset and GaussianNB"
   ]
  },
  {
   "cell_type": "code",
   "execution_count": 34,
   "metadata": {},
   "outputs": [
    {
     "data": {
      "text/plain": [
       "0.7983542466050617"
      ]
     },
     "execution_count": 34,
     "metadata": {},
     "output_type": "execute_result"
    }
   ],
   "source": [
    "from skmultilearn.problem_transform import LabelPowerset\n",
    "clf = LabelPowerset(GaussianNB())\n",
    "clf.fit(X_train,y_train)\n",
    "y_scores = clf.predict_proba(X_test)\n",
    "y_scores = y_scores.toarray()\n",
    "\n",
    "roc_auc_score(y_test,y_scores)"
   ]
  },
  {
   "cell_type": "markdown",
   "metadata": {},
   "source": [
    "labelPowerSet and Randomforestclassifier"
   ]
  },
  {
   "cell_type": "code",
   "execution_count": 35,
   "metadata": {},
   "outputs": [
    {
     "name": "stderr",
     "output_type": "stream",
     "text": [
      "F:\\Anaconda\\lib\\site-packages\\sklearn\\ensemble\\forest.py:245: FutureWarning: The default value of n_estimators will change from 10 in version 0.20 to 100 in 0.22.\n",
      "  \"10 in version 0.20 to 100 in 0.22.\", FutureWarning)\n"
     ]
    },
    {
     "data": {
      "text/plain": [
       "0.8018041223961436"
      ]
     },
     "execution_count": 35,
     "metadata": {},
     "output_type": "execute_result"
    }
   ],
   "source": [
    "clf_forest = LabelPowerset(RandomForestClassifier())\n",
    "clf_forest.fit(X_train,y_train)\n",
    "y_scores = clf_forest.predict_proba(X_test)\n",
    "y_scores = y_scores.toarray()\n",
    "roc_auc_score(y_test,y_scores)"
   ]
  },
  {
   "cell_type": "markdown",
   "metadata": {},
   "source": [
    "MultiLabel KNN"
   ]
  },
  {
   "cell_type": "code",
   "execution_count": 49,
   "metadata": {},
   "outputs": [
    {
     "data": {
      "text/plain": [
       "0.6702701552479515"
      ]
     },
     "execution_count": 49,
     "metadata": {},
     "output_type": "execute_result"
    }
   ],
   "source": [
    "from skmultilearn.adapt import MLkNN\n",
    "clf_mlknn = MLkNN(k=30)\n",
    "X_train1 = X_train.values\n",
    "y_train1 = y_train.values\n",
    "clf_mlknn.fit(X_train1,y_train1)\n",
    "y_scores = clf_mlknn.predict_proba(X_test)\n",
    "y_scores = y_scores.toarray()\n",
    "roc_auc_score(y_test,y_scores)"
   ]
  },
  {
   "cell_type": "markdown",
   "metadata": {},
   "source": [
    "Support Vector Classifier"
   ]
  },
  {
   "cell_type": "markdown",
   "metadata": {},
   "source": [
    "with Label Powerset"
   ]
  },
  {
   "cell_type": "markdown",
   "metadata": {},
   "source": [
    "!"
   ]
  },
  {
   "cell_type": "code",
   "execution_count": 56,
   "metadata": {},
   "outputs": [
    {
     "name": "stderr",
     "output_type": "stream",
     "text": [
      "F:\\Anaconda\\lib\\site-packages\\sklearn\\svm\\base.py:193: FutureWarning: The default value of gamma will change from 'auto' to 'scale' in version 0.22 to account better for unscaled features. Set gamma explicitly to 'auto' or 'scale' to avoid this warning.\n",
      "  \"avoid this warning.\", FutureWarning)\n"
     ]
    },
    {
     "data": {
      "text/plain": [
       "0.8284628821689164"
      ]
     },
     "execution_count": 56,
     "metadata": {},
     "output_type": "execute_result"
    }
   ],
   "source": [
    "from sklearn.svm import SVC\n",
    "clf_svc = LabelPowerset(SVC(probability=True))\n",
    "clf_svc.fit(X_train,y_train)\n",
    "y_scores = clf_svc.predict_proba(X_test)\n",
    "y_scores = y_scores.toarray()\n",
    "roc_auc_score(y_test,y_scores)"
   ]
  },
  {
   "cell_type": "markdown",
   "metadata": {},
   "source": [
    "Random forest classifier upgrade"
   ]
  },
  {
   "cell_type": "code",
   "execution_count": 55,
   "metadata": {},
   "outputs": [
    {
     "name": "stderr",
     "output_type": "stream",
     "text": [
      "F:\\Anaconda\\lib\\site-packages\\sklearn\\ensemble\\forest.py:245: FutureWarning: The default value of n_estimators will change from 10 in version 0.20 to 100 in 0.22.\n",
      "  \"10 in version 0.20 to 100 in 0.22.\", FutureWarning)\n"
     ]
    },
    {
     "data": {
      "text/plain": [
       "0.8011863636432308"
      ]
     },
     "execution_count": 55,
     "metadata": {},
     "output_type": "execute_result"
    }
   ],
   "source": [
    "from sklearn.ensemble import RandomForestClassifier\n",
    "from skmultilearn.problem_transform import LabelPowerset\n",
    "\n",
    "# construct base forest classifier\n",
    "base_classifier = RandomForestClassifier()\n",
    "\n",
    "# setup problem transformation approach with sparse matrices for random forest\n",
    "clf_forest = LabelPowerset(classifier=base_classifier,\n",
    "    require_dense=[False, False])\n",
    "# train\n",
    "clf_forest.fit(X_train, y_train)\n",
    "\n",
    "# predict\n",
    "y_scores = clf_forest.predict_proba(X_test)\n",
    "y_scores = y_scores.toarray()\n",
    "roc_auc_score(y_test,y_scores)"
   ]
  },
  {
   "cell_type": "markdown",
   "metadata": {},
   "source": [
    "Grid Searching for hyperparameters in SVC"
   ]
  },
  {
   "cell_type": "code",
   "execution_count": 11,
   "metadata": {},
   "outputs": [
    {
     "data": {
      "text/plain": [
       "(400, 2)"
      ]
     },
     "execution_count": 11,
     "metadata": {},
     "output_type": "execute_result"
    }
   ],
   "source": [
    "from sklearn.model_selection import train_test_split\n",
    "X_train,X_test,y_train,y_test = train_test_split(X,y,test_size=0.3,random_state=48)\n",
    "X_train_subset = X_train.iloc[0:400,:].values\n",
    "y_train_subset = y_train.iloc[0:400,:].values\n",
    "y_train_subset.shape"
   ]
  },
  {
   "cell_type": "code",
   "execution_count": 13,
   "metadata": {},
   "outputs": [
    {
     "name": "stderr",
     "output_type": "stream",
     "text": [
      "F:\\Anaconda\\lib\\site-packages\\sklearn\\model_selection\\_split.py:1978: FutureWarning: The default value of cv will change from 3 to 5 in version 0.22. Specify it explicitly to silence this warning.\n",
      "  warnings.warn(CV_WARNING, FutureWarning)\n",
      "[Parallel(n_jobs=1)]: Using backend SequentialBackend with 1 concurrent workers.\n",
      "[Parallel(n_jobs=1)]: Done   1 out of   1 | elapsed:    0.0s remaining:    0.0s\n",
      "[Parallel(n_jobs=1)]: Done   2 out of   2 | elapsed:    0.0s remaining:    0.0s\n"
     ]
    },
    {
     "name": "stdout",
     "output_type": "stream",
     "text": [
      "Fitting 3 folds for each of 25 candidates, totalling 75 fits\n",
      "[CV] C=0.1, gamma=1, kernel=rbf ......................................\n",
      "[CV] .......... C=0.1, gamma=1, kernel=rbf, score=0.478, total=   0.1s\n",
      "[CV] C=0.1, gamma=1, kernel=rbf ......................................\n",
      "[CV] .......... C=0.1, gamma=1, kernel=rbf, score=0.478, total=   0.0s\n",
      "[CV] C=0.1, gamma=1, kernel=rbf ......................................\n",
      "[CV] .......... C=0.1, gamma=1, kernel=rbf, score=0.477, total=   0.0s\n",
      "[CV] C=0.1, gamma=0.1, kernel=rbf ....................................\n",
      "[CV] ........ C=0.1, gamma=0.1, kernel=rbf, score=0.478, total=   0.0s\n",
      "[CV] C=0.1, gamma=0.1, kernel=rbf ....................................\n",
      "[CV] ........ C=0.1, gamma=0.1, kernel=rbf, score=0.478, total=   0.1s\n",
      "[CV] C=0.1, gamma=0.1, kernel=rbf ....................................\n",
      "[CV] ........ C=0.1, gamma=0.1, kernel=rbf, score=0.477, total=   0.0s\n",
      "[CV] C=0.1, gamma=0.01, kernel=rbf ...................................\n",
      "[CV] ....... C=0.1, gamma=0.01, kernel=rbf, score=0.478, total=   0.0s\n",
      "[CV] C=0.1, gamma=0.01, kernel=rbf ...................................\n",
      "[CV] ....... C=0.1, gamma=0.01, kernel=rbf, score=0.478, total=   0.0s\n",
      "[CV] C=0.1, gamma=0.01, kernel=rbf ...................................\n",
      "[CV] ....... C=0.1, gamma=0.01, kernel=rbf, score=0.477, total=   0.0s\n",
      "[CV] C=0.1, gamma=0.001, kernel=rbf ..................................\n",
      "[CV] ...... C=0.1, gamma=0.001, kernel=rbf, score=0.478, total=   0.0s\n",
      "[CV] C=0.1, gamma=0.001, kernel=rbf ..................................\n",
      "[CV] ...... C=0.1, gamma=0.001, kernel=rbf, score=0.478, total=   0.0s\n",
      "[CV] C=0.1, gamma=0.001, kernel=rbf ..................................\n",
      "[CV] ...... C=0.1, gamma=0.001, kernel=rbf, score=0.477, total=   0.0s\n",
      "[CV] C=0.1, gamma=0.0001, kernel=rbf .................................\n",
      "[CV] ..... C=0.1, gamma=0.0001, kernel=rbf, score=0.478, total=   0.0s\n",
      "[CV] C=0.1, gamma=0.0001, kernel=rbf .................................\n",
      "[CV] ..... C=0.1, gamma=0.0001, kernel=rbf, score=0.478, total=   0.0s\n",
      "[CV] C=0.1, gamma=0.0001, kernel=rbf .................................\n",
      "[CV] ..... C=0.1, gamma=0.0001, kernel=rbf, score=0.477, total=   0.0s\n",
      "[CV] C=1, gamma=1, kernel=rbf ........................................\n",
      "[CV] ............ C=1, gamma=1, kernel=rbf, score=0.478, total=   0.0s\n",
      "[CV] C=1, gamma=1, kernel=rbf ........................................\n",
      "[CV] ............ C=1, gamma=1, kernel=rbf, score=0.478, total=   0.0s\n",
      "[CV] C=1, gamma=1, kernel=rbf ........................................\n",
      "[CV] ............ C=1, gamma=1, kernel=rbf, score=0.477, total=   0.0s\n",
      "[CV] C=1, gamma=0.1, kernel=rbf ......................................\n",
      "[CV] .......... C=1, gamma=0.1, kernel=rbf, score=0.478, total=   0.0s\n",
      "[CV] C=1, gamma=0.1, kernel=rbf ......................................\n",
      "[CV] .......... C=1, gamma=0.1, kernel=rbf, score=0.478, total=   0.0s\n",
      "[CV] C=1, gamma=0.1, kernel=rbf ......................................\n",
      "[CV] .......... C=1, gamma=0.1, kernel=rbf, score=0.477, total=   0.1s\n",
      "[CV] C=1, gamma=0.01, kernel=rbf .....................................\n",
      "[CV] ......... C=1, gamma=0.01, kernel=rbf, score=0.485, total=   0.0s\n",
      "[CV] C=1, gamma=0.01, kernel=rbf .....................................\n",
      "[CV] ......... C=1, gamma=0.01, kernel=rbf, score=0.530, total=   0.0s\n",
      "[CV] C=1, gamma=0.01, kernel=rbf .....................................\n",
      "[CV] ......... C=1, gamma=0.01, kernel=rbf, score=0.545, total=   0.0s\n",
      "[CV] C=1, gamma=0.001, kernel=rbf ....................................\n",
      "[CV] ........ C=1, gamma=0.001, kernel=rbf, score=0.478, total=   0.0s\n",
      "[CV] C=1, gamma=0.001, kernel=rbf ....................................\n",
      "[CV] ........ C=1, gamma=0.001, kernel=rbf, score=0.478, total=   0.0s\n",
      "[CV] C=1, gamma=0.001, kernel=rbf ....................................\n",
      "[CV] ........ C=1, gamma=0.001, kernel=rbf, score=0.477, total=   0.0s\n",
      "[CV] C=1, gamma=0.0001, kernel=rbf ...................................\n",
      "[CV] ....... C=1, gamma=0.0001, kernel=rbf, score=0.478, total=   0.1s\n",
      "[CV] C=1, gamma=0.0001, kernel=rbf ...................................\n",
      "[CV] ....... C=1, gamma=0.0001, kernel=rbf, score=0.478, total=   0.0s\n",
      "[CV] C=1, gamma=0.0001, kernel=rbf ...................................\n",
      "[CV] ....... C=1, gamma=0.0001, kernel=rbf, score=0.477, total=   0.0s\n",
      "[CV] C=10, gamma=1, kernel=rbf .......................................\n",
      "[CV] ........... C=10, gamma=1, kernel=rbf, score=0.478, total=   0.0s\n",
      "[CV] C=10, gamma=1, kernel=rbf .......................................\n",
      "[CV] ........... C=10, gamma=1, kernel=rbf, score=0.478, total=   0.1s\n",
      "[CV] C=10, gamma=1, kernel=rbf .......................................\n",
      "[CV] ........... C=10, gamma=1, kernel=rbf, score=0.477, total=   0.1s\n",
      "[CV] C=10, gamma=0.1, kernel=rbf .....................................\n",
      "[CV] ......... C=10, gamma=0.1, kernel=rbf, score=0.493, total=   0.0s\n",
      "[CV] C=10, gamma=0.1, kernel=rbf .....................................\n",
      "[CV] ......... C=10, gamma=0.1, kernel=rbf, score=0.493, total=   0.0s\n",
      "[CV] C=10, gamma=0.1, kernel=rbf .....................................\n",
      "[CV] ......... C=10, gamma=0.1, kernel=rbf, score=0.523, total=   0.0s\n",
      "[CV] C=10, gamma=0.01, kernel=rbf ....................................\n",
      "[CV] ........ C=10, gamma=0.01, kernel=rbf, score=0.507, total=   0.0s\n",
      "[CV] C=10, gamma=0.01, kernel=rbf ....................................\n",
      "[CV] ........ C=10, gamma=0.01, kernel=rbf, score=0.552, total=   0.0s\n",
      "[CV] C=10, gamma=0.01, kernel=rbf ....................................\n",
      "[CV] ........ C=10, gamma=0.01, kernel=rbf, score=0.530, total=   0.0s\n",
      "[CV] C=10, gamma=0.001, kernel=rbf ...................................\n",
      "[CV] ....... C=10, gamma=0.001, kernel=rbf, score=0.500, total=   0.0s\n",
      "[CV] C=10, gamma=0.001, kernel=rbf ...................................\n",
      "[CV] ....... C=10, gamma=0.001, kernel=rbf, score=0.642, total=   0.0s\n",
      "[CV] C=10, gamma=0.001, kernel=rbf ...................................\n",
      "[CV] ....... C=10, gamma=0.001, kernel=rbf, score=0.583, total=   0.0s\n",
      "[CV] C=10, gamma=0.0001, kernel=rbf ..................................\n",
      "[CV] ...... C=10, gamma=0.0001, kernel=rbf, score=0.470, total=   0.0s\n",
      "[CV] C=10, gamma=0.0001, kernel=rbf ..................................\n",
      "[CV] ...... C=10, gamma=0.0001, kernel=rbf, score=0.478, total=   0.0s\n",
      "[CV] C=10, gamma=0.0001, kernel=rbf ..................................\n",
      "[CV] ...... C=10, gamma=0.0001, kernel=rbf, score=0.477, total=   0.0s\n",
      "[CV] C=10, gamma=1, kernel=rbf .......................................\n",
      "[CV] ........... C=10, gamma=1, kernel=rbf, score=0.478, total=   0.0s\n",
      "[CV] C=10, gamma=1, kernel=rbf .......................................\n",
      "[CV] ........... C=10, gamma=1, kernel=rbf, score=0.478, total=   0.0s\n",
      "[CV] C=10, gamma=1, kernel=rbf .......................................\n",
      "[CV] ........... C=10, gamma=1, kernel=rbf, score=0.477, total=   0.0s\n",
      "[CV] C=10, gamma=0.1, kernel=rbf .....................................\n",
      "[CV] ......... C=10, gamma=0.1, kernel=rbf, score=0.493, total=   0.0s\n",
      "[CV] C=10, gamma=0.1, kernel=rbf .....................................\n",
      "[CV] ......... C=10, gamma=0.1, kernel=rbf, score=0.493, total=   0.0s\n",
      "[CV] C=10, gamma=0.1, kernel=rbf .....................................\n",
      "[CV] ......... C=10, gamma=0.1, kernel=rbf, score=0.523, total=   0.0s\n",
      "[CV] C=10, gamma=0.01, kernel=rbf ....................................\n",
      "[CV] ........ C=10, gamma=0.01, kernel=rbf, score=0.507, total=   0.0s\n",
      "[CV] C=10, gamma=0.01, kernel=rbf ....................................\n",
      "[CV] ........ C=10, gamma=0.01, kernel=rbf, score=0.552, total=   0.0s\n",
      "[CV] C=10, gamma=0.01, kernel=rbf ....................................\n",
      "[CV] ........ C=10, gamma=0.01, kernel=rbf, score=0.530, total=   0.0s\n",
      "[CV] C=10, gamma=0.001, kernel=rbf ...................................\n",
      "[CV] ....... C=10, gamma=0.001, kernel=rbf, score=0.500, total=   0.0s\n",
      "[CV] C=10, gamma=0.001, kernel=rbf ...................................\n",
      "[CV] ....... C=10, gamma=0.001, kernel=rbf, score=0.642, total=   0.0s\n",
      "[CV] C=10, gamma=0.001, kernel=rbf ...................................\n",
      "[CV] ....... C=10, gamma=0.001, kernel=rbf, score=0.583, total=   0.0s\n",
      "[CV] C=10, gamma=0.0001, kernel=rbf ..................................\n",
      "[CV] ...... C=10, gamma=0.0001, kernel=rbf, score=0.470, total=   0.0s\n",
      "[CV] C=10, gamma=0.0001, kernel=rbf ..................................\n",
      "[CV] ...... C=10, gamma=0.0001, kernel=rbf, score=0.478, total=   0.0s\n",
      "[CV] C=10, gamma=0.0001, kernel=rbf ..................................\n",
      "[CV] ...... C=10, gamma=0.0001, kernel=rbf, score=0.477, total=   0.0s\n",
      "[CV] C=1000, gamma=1, kernel=rbf .....................................\n"
     ]
    },
    {
     "name": "stdout",
     "output_type": "stream",
     "text": [
      "[CV] ......... C=1000, gamma=1, kernel=rbf, score=0.478, total=   0.0s\n",
      "[CV] C=1000, gamma=1, kernel=rbf .....................................\n",
      "[CV] ......... C=1000, gamma=1, kernel=rbf, score=0.478, total=   0.0s\n",
      "[CV] C=1000, gamma=1, kernel=rbf .....................................\n",
      "[CV] ......... C=1000, gamma=1, kernel=rbf, score=0.477, total=   0.0s\n",
      "[CV] C=1000, gamma=0.1, kernel=rbf ...................................\n",
      "[CV] ....... C=1000, gamma=0.1, kernel=rbf, score=0.493, total=   0.0s\n",
      "[CV] C=1000, gamma=0.1, kernel=rbf ...................................\n",
      "[CV] ....... C=1000, gamma=0.1, kernel=rbf, score=0.493, total=   0.0s\n",
      "[CV] C=1000, gamma=0.1, kernel=rbf ...................................\n",
      "[CV] ....... C=1000, gamma=0.1, kernel=rbf, score=0.523, total=   0.0s\n",
      "[CV] C=1000, gamma=0.01, kernel=rbf ..................................\n",
      "[CV] ...... C=1000, gamma=0.01, kernel=rbf, score=0.507, total=   0.0s\n",
      "[CV] C=1000, gamma=0.01, kernel=rbf ..................................\n",
      "[CV] ...... C=1000, gamma=0.01, kernel=rbf, score=0.567, total=   0.0s\n",
      "[CV] C=1000, gamma=0.01, kernel=rbf ..................................\n",
      "[CV] ...... C=1000, gamma=0.01, kernel=rbf, score=0.485, total=   0.0s\n",
      "[CV] C=1000, gamma=0.001, kernel=rbf .................................\n",
      "[CV] ..... C=1000, gamma=0.001, kernel=rbf, score=0.515, total=   0.1s\n",
      "[CV] C=1000, gamma=0.001, kernel=rbf .................................\n",
      "[CV] ..... C=1000, gamma=0.001, kernel=rbf, score=0.522, total=   0.1s\n",
      "[CV] C=1000, gamma=0.001, kernel=rbf .................................\n",
      "[CV] ..... C=1000, gamma=0.001, kernel=rbf, score=0.485, total=   0.1s\n",
      "[CV] C=1000, gamma=0.0001, kernel=rbf ................................\n",
      "[CV] .... C=1000, gamma=0.0001, kernel=rbf, score=0.545, total=   0.1s\n",
      "[CV] C=1000, gamma=0.0001, kernel=rbf ................................\n",
      "[CV] .... C=1000, gamma=0.0001, kernel=rbf, score=0.634, total=   0.1s\n",
      "[CV] C=1000, gamma=0.0001, kernel=rbf ................................\n",
      "[CV] .... C=1000, gamma=0.0001, kernel=rbf, score=0.576, total=   0.1s\n",
      "{'C': 1000, 'gamma': 0.0001, 'kernel': 'rbf'}\n",
      "SVC(C=1000, cache_size=200, class_weight=None, coef0=0.0,\n",
      "    decision_function_shape='ovr', degree=3, gamma=0.0001, kernel='rbf',\n",
      "    max_iter=-1, probability=True, random_state=None, shrinking=True, tol=0.001,\n",
      "    verbose=False)\n"
     ]
    },
    {
     "name": "stderr",
     "output_type": "stream",
     "text": [
      "[Parallel(n_jobs=1)]: Done  75 out of  75 | elapsed:    3.2s finished\n",
      "F:\\Anaconda\\lib\\site-packages\\sklearn\\model_selection\\_search.py:814: DeprecationWarning: The default of the `iid` parameter will change from True to False in version 0.22 and will be removed in 0.24. This will change numeric results when test-set sizes are unequal.\n",
      "  DeprecationWarning)\n"
     ]
    }
   ],
   "source": [
    "from skmultilearn.problem_transform import LabelPowerset\n",
    "from sklearn.model_selection import GridSearchCV\n",
    "from sklearn.svm import SVC\n",
    "param_grid = {'C':[0.1,1,10,10,1000],\n",
    "             'gamma': [1,0.1,0.01,0.001,0.0001],\n",
    "             'kernel':['rbf']}\n",
    "grid = GridSearchCV(SVC(probability=True),param_grid,refit=True,verbose=3)\n",
    "clf_svc = LabelPowerset(grid)\n",
    "clf_svc.fit(X_train_subset,y_train_subset)\n",
    "print(grid.best_params_)\n",
    "print(grid.best_estimator_)"
   ]
  },
  {
   "cell_type": "code",
   "execution_count": 16,
   "metadata": {},
   "outputs": [
    {
     "data": {
      "text/plain": [
       "0.80987163398395"
      ]
     },
     "execution_count": 16,
     "metadata": {},
     "output_type": "execute_result"
    }
   ],
   "source": [
    "from sklearn.metrics import roc_auc_score\n",
    "y_scores = clf_svc.predict_proba(X_test)\n",
    "y_scores = y_scores.toarray()\n",
    "roc_auc_score(y_test,y_scores)"
   ]
  },
  {
   "cell_type": "markdown",
   "metadata": {},
   "source": [
    "# Final Training of Data on whole dataset"
   ]
  },
  {
   "cell_type": "code",
   "execution_count": 17,
   "metadata": {},
   "outputs": [
    {
     "data": {
      "text/plain": [
       "LabelPowerset(classifier=SVC(C=1000, cache_size=200, class_weight=None,\n",
       "                             coef0=0.0, decision_function_shape='ovr', degree=3,\n",
       "                             gamma=0.0001, kernel='rbf', max_iter=-1,\n",
       "                             probability=True, random_state=None,\n",
       "                             shrinking=True, tol=0.001, verbose=False),\n",
       "              require_dense=[True, True])"
      ]
     },
     "execution_count": 17,
     "metadata": {},
     "output_type": "execute_result"
    }
   ],
   "source": [
    "clf_svc_final = LabelPowerset(grid.best_estimator_)\n",
    "clf_svc_final.fit(X,y)\n"
   ]
  },
  {
   "cell_type": "code",
   "execution_count": 18,
   "metadata": {},
   "outputs": [
    {
     "data": {
      "text/plain": [
       "['Fludata_model.pkl']"
      ]
     },
     "execution_count": 18,
     "metadata": {},
     "output_type": "execute_result"
    }
   ],
   "source": [
    "import joblib\n",
    "joblib.dump(clf_svc_final,'Fludata_model.pkl')\n"
   ]
  },
  {
   "cell_type": "code",
   "execution_count": 19,
   "metadata": {},
   "outputs": [],
   "source": [
    "#Fludata_model = joblib.load('Fludata_model.pkl')"
   ]
  },
  {
   "cell_type": "markdown",
   "metadata": {},
   "source": [
    "# loading and preparing test data "
   ]
  },
  {
   "cell_type": "code",
   "execution_count": 1,
   "metadata": {},
   "outputs": [
    {
     "name": "stdout",
     "output_type": "stream",
     "text": [
      "<class 'pandas.core.frame.DataFrame'>\n",
      "RangeIndex: 26708 entries, 0 to 26707\n",
      "Data columns (total 36 columns):\n",
      "respondent_id                  26708 non-null int64\n",
      "h1n1_concern                   26623 non-null float64\n",
      "h1n1_knowledge                 26586 non-null float64\n",
      "behavioral_antiviral_meds      26629 non-null float64\n",
      "behavioral_avoidance           26495 non-null float64\n",
      "behavioral_face_mask           26689 non-null float64\n",
      "behavioral_wash_hands          26668 non-null float64\n",
      "behavioral_large_gatherings    26636 non-null float64\n",
      "behavioral_outside_home        26626 non-null float64\n",
      "behavioral_touch_face          26580 non-null float64\n",
      "doctor_recc_h1n1               24548 non-null float64\n",
      "doctor_recc_seasonal           24548 non-null float64\n",
      "chronic_med_condition          25776 non-null float64\n",
      "child_under_6_months           25895 non-null float64\n",
      "health_worker                  25919 non-null float64\n",
      "health_insurance               14480 non-null float64\n",
      "opinion_h1n1_vacc_effective    26310 non-null float64\n",
      "opinion_h1n1_risk              26328 non-null float64\n",
      "opinion_h1n1_sick_from_vacc    26333 non-null float64\n",
      "opinion_seas_vacc_effective    26256 non-null float64\n",
      "opinion_seas_risk              26209 non-null float64\n",
      "opinion_seas_sick_from_vacc    26187 non-null float64\n",
      "age_group                      26708 non-null object\n",
      "education                      25301 non-null object\n",
      "race                           26708 non-null object\n",
      "sex                            26708 non-null object\n",
      "income_poverty                 22211 non-null object\n",
      "marital_status                 25266 non-null object\n",
      "rent_or_own                    24672 non-null object\n",
      "employment_status              25237 non-null object\n",
      "hhs_geo_region                 26708 non-null object\n",
      "census_msa                     26708 non-null object\n",
      "household_adults               26483 non-null float64\n",
      "household_children             26483 non-null float64\n",
      "employment_industry            13433 non-null object\n",
      "employment_occupation          13282 non-null object\n",
      "dtypes: float64(23), int64(1), object(12)\n",
      "memory usage: 7.3+ MB\n"
     ]
    }
   ],
   "source": [
    "import pandas as pd\n",
    "import os\n",
    "DATA_PATH='C:/Users/Adrish Bir/Desktop/Data science &Machine Learning/Flu/Flu'\n",
    "csv_name='test_set_features.csv'\n",
    "def load_data(data_path= DATA_PATH):\n",
    "    csv_path = os.path.join(data_path,csv_name)\n",
    "    return pd.read_csv(csv_path)\n",
    "test_data = load_data()\n",
    "test_data.info()"
   ]
  },
  {
   "cell_type": "code",
   "execution_count": 2,
   "metadata": {},
   "outputs": [
    {
     "data": {
      "text/plain": [
       "respondent_id                      0\n",
       "h1n1_concern                      85\n",
       "h1n1_knowledge                   122\n",
       "behavioral_antiviral_meds         79\n",
       "behavioral_avoidance             213\n",
       "behavioral_face_mask              19\n",
       "behavioral_wash_hands             40\n",
       "behavioral_large_gatherings       72\n",
       "behavioral_outside_home           82\n",
       "behavioral_touch_face            128\n",
       "doctor_recc_h1n1                2160\n",
       "doctor_recc_seasonal            2160\n",
       "chronic_med_condition            932\n",
       "child_under_6_months             813\n",
       "health_worker                    789\n",
       "health_insurance               12228\n",
       "opinion_h1n1_vacc_effective      398\n",
       "opinion_h1n1_risk                380\n",
       "opinion_h1n1_sick_from_vacc      375\n",
       "opinion_seas_vacc_effective      452\n",
       "opinion_seas_risk                499\n",
       "opinion_seas_sick_from_vacc      521\n",
       "age_group                          0\n",
       "education                       1407\n",
       "race                               0\n",
       "sex                                0\n",
       "income_poverty                  4497\n",
       "marital_status                  1442\n",
       "rent_or_own                     2036\n",
       "employment_status               1471\n",
       "hhs_geo_region                     0\n",
       "census_msa                         0\n",
       "household_adults                 225\n",
       "household_children               225\n",
       "employment_industry            13275\n",
       "employment_occupation          13426\n",
       "dtype: int64"
      ]
     },
     "execution_count": 2,
     "metadata": {},
     "output_type": "execute_result"
    }
   ],
   "source": [
    "test_data.isnull().sum()"
   ]
  },
  {
   "cell_type": "code",
   "execution_count": 3,
   "metadata": {},
   "outputs": [
    {
     "name": "stdout",
     "output_type": "stream",
     "text": [
      "(26708, 36)\n",
      "(26708, 33)\n"
     ]
    }
   ],
   "source": [
    "print(test_data.shape)\n",
    "test_data1 = test_data.drop(['health_insurance','employment_industry','employment_occupation'],axis=1)\n",
    "print(test_data1.shape)"
   ]
  },
  {
   "cell_type": "code",
   "execution_count": 4,
   "metadata": {},
   "outputs": [
    {
     "name": "stdout",
     "output_type": "stream",
     "text": [
      "<class 'pandas.core.frame.DataFrame'>\n",
      "RangeIndex: 26708 entries, 0 to 26707\n",
      "Data columns (total 33 columns):\n",
      "respondent_id                  26708 non-null object\n",
      "h1n1_concern                   26708 non-null object\n",
      "h1n1_knowledge                 26708 non-null object\n",
      "behavioral_antiviral_meds      26708 non-null object\n",
      "behavioral_avoidance           26708 non-null object\n",
      "behavioral_face_mask           26708 non-null object\n",
      "behavioral_wash_hands          26708 non-null object\n",
      "behavioral_large_gatherings    26708 non-null object\n",
      "behavioral_outside_home        26708 non-null object\n",
      "behavioral_touch_face          26708 non-null object\n",
      "doctor_recc_h1n1               26708 non-null object\n",
      "doctor_recc_seasonal           26708 non-null object\n",
      "chronic_med_condition          26708 non-null object\n",
      "child_under_6_months           26708 non-null object\n",
      "health_worker                  26708 non-null object\n",
      "opinion_h1n1_vacc_effective    26708 non-null object\n",
      "opinion_h1n1_risk              26708 non-null object\n",
      "opinion_h1n1_sick_from_vacc    26708 non-null object\n",
      "opinion_seas_vacc_effective    26708 non-null object\n",
      "opinion_seas_risk              26708 non-null object\n",
      "opinion_seas_sick_from_vacc    26708 non-null object\n",
      "age_group                      26708 non-null object\n",
      "education                      26708 non-null object\n",
      "race                           26708 non-null object\n",
      "sex                            26708 non-null object\n",
      "income_poverty                 26708 non-null object\n",
      "marital_status                 26708 non-null object\n",
      "rent_or_own                    26708 non-null object\n",
      "employment_status              26708 non-null object\n",
      "hhs_geo_region                 26708 non-null object\n",
      "census_msa                     26708 non-null object\n",
      "household_adults               26708 non-null object\n",
      "household_children             26708 non-null object\n",
      "dtypes: object(33)\n",
      "memory usage: 6.7+ MB\n"
     ]
    }
   ],
   "source": [
    "from sklearn.impute import SimpleImputer\n",
    "imputer = SimpleImputer(strategy = 'most_frequent')\n",
    "test_data1_imp_np = imputer.fit_transform(test_data1)\n",
    "test_data1_imp_df = pd.DataFrame(data = test_data1_imp_np,columns = test_data1.columns )\n",
    "test_data1_imp_df.info()"
   ]
  },
  {
   "cell_type": "code",
   "execution_count": 5,
   "metadata": {},
   "outputs": [
    {
     "data": {
      "text/plain": [
       "(26708, 12)"
      ]
     },
     "execution_count": 5,
     "metadata": {},
     "output_type": "execute_result"
    }
   ],
   "source": [
    "categorical_attribs = ['age_group','education','race','sex','income_poverty',\n",
    "                       'marital_status','rent_or_own','employment_status',\n",
    "                       'hhs_geo_region','census_msa','household_adults','household_children']\n",
    "\n",
    "oe_test_data = test_data1_imp_df[categorical_attribs]\n",
    "test_data1_imp_df.drop(categorical_attribs,axis=1,inplace=True)\n",
    "oe_test_data.shape"
   ]
  },
  {
   "cell_type": "code",
   "execution_count": 6,
   "metadata": {},
   "outputs": [
    {
     "data": {
      "text/plain": [
       "[array(['18 - 34 Years', '35 - 44 Years', '45 - 54 Years', '55 - 64 Years',\n",
       "        '65+ Years'], dtype=object),\n",
       " array(['12 Years', '< 12 Years', 'College Graduate', 'Some College'],\n",
       "       dtype=object),\n",
       " array(['Black', 'Hispanic', 'Other or Multiple', 'White'], dtype=object),\n",
       " array(['Female', 'Male'], dtype=object),\n",
       " array(['<= $75,000, Above Poverty', '> $75,000', 'Below Poverty'],\n",
       "       dtype=object),\n",
       " array(['Married', 'Not Married'], dtype=object),\n",
       " array(['Own', 'Rent'], dtype=object),\n",
       " array(['Employed', 'Not in Labor Force', 'Unemployed'], dtype=object),\n",
       " array(['atmpeygn', 'bhuqouqj', 'dqpwygqj', 'fpwskwrf', 'kbazzjca',\n",
       "        'lrircsnp', 'lzgpxyit', 'mlyzmhmf', 'oxchjgsf', 'qufhixun'],\n",
       "       dtype=object),\n",
       " array(['MSA, Not Principle  City', 'MSA, Principle City', 'Non-MSA'],\n",
       "       dtype=object),\n",
       " array([0.0, 1.0, 2.0, 3.0], dtype=object),\n",
       " array([0.0, 1.0, 2.0, 3.0], dtype=object)]"
      ]
     },
     "execution_count": 6,
     "metadata": {},
     "output_type": "execute_result"
    }
   ],
   "source": [
    "from sklearn.preprocessing import OrdinalEncoder\n",
    "oe = OrdinalEncoder()\n",
    "oe_test_data_np = oe.fit_transform(oe_test_data)\n",
    "oe.categories_"
   ]
  },
  {
   "cell_type": "code",
   "execution_count": 7,
   "metadata": {},
   "outputs": [
    {
     "data": {
      "text/plain": [
       "(26708, 33)"
      ]
     },
     "execution_count": 7,
     "metadata": {},
     "output_type": "execute_result"
    }
   ],
   "source": [
    "oe_test_data_df = pd.DataFrame(data = oe_test_data_np,columns = oe_test_data.columns )\n",
    "test_data_imp_df1 = pd.merge(left=test_data1_imp_df, left_index=True,right=oe_test_data_df, right_index=True,\n",
    "                  how='inner')\n",
    "test_data_imp_df1.shape"
   ]
  },
  {
   "cell_type": "code",
   "execution_count": 8,
   "metadata": {},
   "outputs": [
    {
     "name": "stdout",
     "output_type": "stream",
     "text": [
      "<class 'pandas.core.frame.DataFrame'>\n",
      "RangeIndex: 26708 entries, 0 to 26707\n",
      "Data columns (total 33 columns):\n",
      "respondent_id                  26708 non-null int64\n",
      "h1n1_concern                   26708 non-null float64\n",
      "h1n1_knowledge                 26708 non-null float64\n",
      "behavioral_antiviral_meds      26708 non-null float64\n",
      "behavioral_avoidance           26708 non-null float64\n",
      "behavioral_face_mask           26708 non-null float64\n",
      "behavioral_wash_hands          26708 non-null float64\n",
      "behavioral_large_gatherings    26708 non-null float64\n",
      "behavioral_outside_home        26708 non-null float64\n",
      "behavioral_touch_face          26708 non-null float64\n",
      "doctor_recc_h1n1               26708 non-null float64\n",
      "doctor_recc_seasonal           26708 non-null float64\n",
      "chronic_med_condition          26708 non-null float64\n",
      "child_under_6_months           26708 non-null float64\n",
      "health_worker                  26708 non-null float64\n",
      "opinion_h1n1_vacc_effective    26708 non-null float64\n",
      "opinion_h1n1_risk              26708 non-null float64\n",
      "opinion_h1n1_sick_from_vacc    26708 non-null float64\n",
      "opinion_seas_vacc_effective    26708 non-null float64\n",
      "opinion_seas_risk              26708 non-null float64\n",
      "opinion_seas_sick_from_vacc    26708 non-null float64\n",
      "age_group                      26708 non-null float64\n",
      "education                      26708 non-null float64\n",
      "race                           26708 non-null float64\n",
      "sex                            26708 non-null float64\n",
      "income_poverty                 26708 non-null float64\n",
      "marital_status                 26708 non-null float64\n",
      "rent_or_own                    26708 non-null float64\n",
      "employment_status              26708 non-null float64\n",
      "hhs_geo_region                 26708 non-null float64\n",
      "census_msa                     26708 non-null float64\n",
      "household_adults               26708 non-null float64\n",
      "household_children             26708 non-null float64\n",
      "dtypes: float64(32), int64(1)\n",
      "memory usage: 6.7 MB\n"
     ]
    }
   ],
   "source": [
    "test_data_imp_df1 = test_data_imp_df1.apply(pd.to_numeric, errors='ignore')\n",
    "test_data_imp_df1.info()"
   ]
  },
  {
   "cell_type": "code",
   "execution_count": 9,
   "metadata": {},
   "outputs": [],
   "source": [
    "test_data_imp_df1.drop(['respondent_id'],axis=1,inplace=True)"
   ]
  },
  {
   "cell_type": "code",
   "execution_count": 10,
   "metadata": {},
   "outputs": [
    {
     "name": "stdout",
     "output_type": "stream",
     "text": [
      "<class 'pandas.core.frame.DataFrame'>\n",
      "RangeIndex: 26708 entries, 0 to 26707\n",
      "Data columns (total 3 columns):\n",
      "health_insurance         14480 non-null float64\n",
      "employment_industry      13433 non-null object\n",
      "employment_occupation    13282 non-null object\n",
      "dtypes: float64(1), object(2)\n",
      "memory usage: 626.0+ KB\n"
     ]
    }
   ],
   "source": [
    "target_col = test_data[['health_insurance','employment_industry','employment_occupation']]\n",
    "target_col.info()"
   ]
  },
  {
   "cell_type": "code",
   "execution_count": 11,
   "metadata": {},
   "outputs": [
    {
     "data": {
      "text/plain": [
       "(26708, 33)"
      ]
     },
     "execution_count": 11,
     "metadata": {},
     "output_type": "execute_result"
    }
   ],
   "source": [
    "test_HI = pd.merge(left=test_data_imp_df1, left_index=True,right=target_col[['health_insurance']], right_index=True,\n",
    "                  how='inner')\n",
    "test_HI.shape"
   ]
  },
  {
   "cell_type": "markdown",
   "metadata": {},
   "source": [
    "missing value prediction"
   ]
  },
  {
   "cell_type": "code",
   "execution_count": 12,
   "metadata": {},
   "outputs": [
    {
     "name": "stdout",
     "output_type": "stream",
     "text": [
      "(14480, 33)\n",
      "(12228, 33)\n"
     ]
    }
   ],
   "source": [
    "train = test_HI[test_HI['health_insurance'].notnull()]\n",
    "test = test_HI[test_HI['health_insurance'].isnull()]\n",
    "print(train.shape)\n",
    "print(test.shape)"
   ]
  },
  {
   "cell_type": "code",
   "execution_count": 13,
   "metadata": {},
   "outputs": [],
   "source": [
    "X_train = train.iloc[:,:32]\n",
    "X_test = test.iloc[:,:32]\n",
    "y_train = train.iloc[:,32:]\n",
    "y_test = test.iloc[:,32:]"
   ]
  },
  {
   "cell_type": "code",
   "execution_count": 14,
   "metadata": {},
   "outputs": [
    {
     "name": "stderr",
     "output_type": "stream",
     "text": [
      "F:\\Anaconda\\lib\\site-packages\\sklearn\\ensemble\\forest.py:245: FutureWarning: The default value of n_estimators will change from 10 in version 0.20 to 100 in 0.22.\n",
      "  \"10 in version 0.20 to 100 in 0.22.\", FutureWarning)\n",
      "F:\\Anaconda\\lib\\site-packages\\ipykernel_launcher.py:3: DataConversionWarning: A column-vector y was passed when a 1d array was expected. Please change the shape of y to (n_samples,), for example using ravel().\n",
      "  This is separate from the ipykernel package so we can avoid doing imports until\n"
     ]
    },
    {
     "data": {
      "text/plain": [
       "pandas.core.frame.DataFrame"
      ]
     },
     "execution_count": 14,
     "metadata": {},
     "output_type": "execute_result"
    }
   ],
   "source": [
    "from sklearn.ensemble import RandomForestClassifier\n",
    "Rf_clf = RandomForestClassifier(random_state=45)\n",
    "Rf_clf.fit(X_train,y_train)\n",
    "y_pred = Rf_clf.predict(X_test)\n",
    "type(y_train)"
   ]
  },
  {
   "cell_type": "code",
   "execution_count": 15,
   "metadata": {},
   "outputs": [
    {
     "name": "stdout",
     "output_type": "stream",
     "text": [
      "<class 'pandas.core.frame.DataFrame'>\n",
      "RangeIndex: 26708 entries, 0 to 26707\n",
      "Data columns (total 4 columns):\n",
      "health_insurance         14480 non-null float64\n",
      "employment_industry      13433 non-null object\n",
      "employment_occupation    13282 non-null object\n",
      "health_insurance_fin     26708 non-null float64\n",
      "dtypes: float64(2), object(2)\n",
      "memory usage: 834.7+ KB\n"
     ]
    },
    {
     "name": "stderr",
     "output_type": "stream",
     "text": [
      "F:\\Anaconda\\lib\\site-packages\\ipykernel_launcher.py:4: SettingWithCopyWarning: \n",
      "A value is trying to be set on a copy of a slice from a DataFrame.\n",
      "Try using .loc[row_indexer,col_indexer] = value instead\n",
      "\n",
      "See the caveats in the documentation: http://pandas.pydata.org/pandas-docs/stable/indexing.html#indexing-view-versus-copy\n",
      "  after removing the cwd from sys.path.\n"
     ]
    }
   ],
   "source": [
    "y_train = y_train.values.reshape(-1)\n",
    "import numpy as np\n",
    "y_fin = np.concatenate((y_train,y_pred))\n",
    "target_col['health_insurance_fin'] = y_fin\n",
    "target_col.info()"
   ]
  },
  {
   "cell_type": "code",
   "execution_count": 16,
   "metadata": {},
   "outputs": [
    {
     "data": {
      "text/plain": [
       "(26708, 33)"
      ]
     },
     "execution_count": 16,
     "metadata": {},
     "output_type": "execute_result"
    }
   ],
   "source": [
    "test_EI = pd.merge(left=test_data_imp_df1, left_index=True,right=target_col[['employment_industry']], right_index=True,\n",
    "                  how='inner')\n",
    "test_EI.shape"
   ]
  },
  {
   "cell_type": "code",
   "execution_count": 17,
   "metadata": {},
   "outputs": [
    {
     "name": "stdout",
     "output_type": "stream",
     "text": [
      "(13433, 33)\n",
      "(13275, 33)\n"
     ]
    }
   ],
   "source": [
    "train = test_EI[test_EI['employment_industry'].notnull()]\n",
    "test = test_EI[test_EI['employment_industry'].isnull()]\n",
    "print(train.shape)\n",
    "print(test.shape)"
   ]
  },
  {
   "cell_type": "code",
   "execution_count": 18,
   "metadata": {},
   "outputs": [
    {
     "name": "stdout",
     "output_type": "stream",
     "text": [
      "<class 'pandas.core.frame.DataFrame'>\n",
      "RangeIndex: 13433 entries, 0 to 13432\n",
      "Data columns (total 33 columns):\n",
      "h1n1_concern                   13433 non-null float64\n",
      "h1n1_knowledge                 13433 non-null float64\n",
      "behavioral_antiviral_meds      13433 non-null float64\n",
      "behavioral_avoidance           13433 non-null float64\n",
      "behavioral_face_mask           13433 non-null float64\n",
      "behavioral_wash_hands          13433 non-null float64\n",
      "behavioral_large_gatherings    13433 non-null float64\n",
      "behavioral_outside_home        13433 non-null float64\n",
      "behavioral_touch_face          13433 non-null float64\n",
      "doctor_recc_h1n1               13433 non-null float64\n",
      "doctor_recc_seasonal           13433 non-null float64\n",
      "chronic_med_condition          13433 non-null float64\n",
      "child_under_6_months           13433 non-null float64\n",
      "health_worker                  13433 non-null float64\n",
      "opinion_h1n1_vacc_effective    13433 non-null float64\n",
      "opinion_h1n1_risk              13433 non-null float64\n",
      "opinion_h1n1_sick_from_vacc    13433 non-null float64\n",
      "opinion_seas_vacc_effective    13433 non-null float64\n",
      "opinion_seas_risk              13433 non-null float64\n",
      "opinion_seas_sick_from_vacc    13433 non-null float64\n",
      "age_group                      13433 non-null float64\n",
      "education                      13433 non-null float64\n",
      "race                           13433 non-null float64\n",
      "sex                            13433 non-null float64\n",
      "income_poverty                 13433 non-null float64\n",
      "marital_status                 13433 non-null float64\n",
      "rent_or_own                    13433 non-null float64\n",
      "employment_status              13433 non-null float64\n",
      "hhs_geo_region                 13433 non-null float64\n",
      "census_msa                     13433 non-null float64\n",
      "household_adults               13433 non-null float64\n",
      "household_children             13433 non-null float64\n",
      "employment_industry            13433 non-null float64\n",
      "dtypes: float64(33)\n",
      "memory usage: 3.4 MB\n"
     ]
    }
   ],
   "source": [
    "train_np = oe.fit_transform(train)\n",
    "train = pd.DataFrame(data = train_np,columns = test_EI.columns)\n",
    "train.info()"
   ]
  },
  {
   "cell_type": "code",
   "execution_count": 19,
   "metadata": {},
   "outputs": [],
   "source": [
    "X_train = train.iloc[:,:32]\n",
    "X_test = test.iloc[:,:32]\n",
    "y_train = train.iloc[:,32:]\n",
    "y_test = test.iloc[:,32:]"
   ]
  },
  {
   "cell_type": "code",
   "execution_count": 20,
   "metadata": {},
   "outputs": [
    {
     "name": "stderr",
     "output_type": "stream",
     "text": [
      "F:\\Anaconda\\lib\\site-packages\\sklearn\\ensemble\\forest.py:245: FutureWarning: The default value of n_estimators will change from 10 in version 0.20 to 100 in 0.22.\n",
      "  \"10 in version 0.20 to 100 in 0.22.\", FutureWarning)\n",
      "F:\\Anaconda\\lib\\site-packages\\ipykernel_launcher.py:3: DataConversionWarning: A column-vector y was passed when a 1d array was expected. Please change the shape of y to (n_samples,), for example using ravel().\n",
      "  This is separate from the ipykernel package so we can avoid doing imports until\n"
     ]
    },
    {
     "data": {
      "text/plain": [
       "pandas.core.frame.DataFrame"
      ]
     },
     "execution_count": 20,
     "metadata": {},
     "output_type": "execute_result"
    }
   ],
   "source": [
    "from sklearn.ensemble import RandomForestClassifier\n",
    "Rf_clf = RandomForestClassifier(random_state=45)\n",
    "Rf_clf.fit(X_train,y_train)\n",
    "y_pred = Rf_clf.predict(X_test)\n",
    "type(y_train)"
   ]
  },
  {
   "cell_type": "code",
   "execution_count": 21,
   "metadata": {},
   "outputs": [
    {
     "name": "stdout",
     "output_type": "stream",
     "text": [
      "<class 'pandas.core.frame.DataFrame'>\n",
      "RangeIndex: 26708 entries, 0 to 26707\n",
      "Data columns (total 5 columns):\n",
      "health_insurance           14480 non-null float64\n",
      "employment_industry        13433 non-null object\n",
      "employment_occupation      13282 non-null object\n",
      "health_insurance_fin       26708 non-null float64\n",
      "employment_industry_fin    26708 non-null float64\n",
      "dtypes: float64(3), object(2)\n",
      "memory usage: 1.0+ MB\n"
     ]
    },
    {
     "name": "stderr",
     "output_type": "stream",
     "text": [
      "F:\\Anaconda\\lib\\site-packages\\ipykernel_launcher.py:4: SettingWithCopyWarning: \n",
      "A value is trying to be set on a copy of a slice from a DataFrame.\n",
      "Try using .loc[row_indexer,col_indexer] = value instead\n",
      "\n",
      "See the caveats in the documentation: http://pandas.pydata.org/pandas-docs/stable/indexing.html#indexing-view-versus-copy\n",
      "  after removing the cwd from sys.path.\n"
     ]
    }
   ],
   "source": [
    "y_train = y_train.values.reshape(-1)\n",
    "import numpy as np\n",
    "y_fin = np.concatenate((y_train,y_pred))\n",
    "target_col['employment_industry_fin'] = y_fin\n",
    "target_col.info()"
   ]
  },
  {
   "cell_type": "code",
   "execution_count": 22,
   "metadata": {},
   "outputs": [
    {
     "data": {
      "text/plain": [
       "(26708, 33)"
      ]
     },
     "execution_count": 22,
     "metadata": {},
     "output_type": "execute_result"
    }
   ],
   "source": [
    "test_EO = pd.merge(left=test_data_imp_df1, left_index=True,right=target_col[['employment_occupation']], right_index=True,\n",
    "                  how='inner')\n",
    "test_EO.shape"
   ]
  },
  {
   "cell_type": "code",
   "execution_count": 23,
   "metadata": {},
   "outputs": [
    {
     "name": "stdout",
     "output_type": "stream",
     "text": [
      "(13282, 33)\n",
      "(13426, 33)\n"
     ]
    }
   ],
   "source": [
    "train = test_EO[test_EO['employment_occupation'].notnull()]\n",
    "test = test_EO[test_EO['employment_occupation'].isnull()]\n",
    "print(train.shape)\n",
    "print(test.shape)"
   ]
  },
  {
   "cell_type": "code",
   "execution_count": 24,
   "metadata": {},
   "outputs": [
    {
     "name": "stdout",
     "output_type": "stream",
     "text": [
      "<class 'pandas.core.frame.DataFrame'>\n",
      "RangeIndex: 13282 entries, 0 to 13281\n",
      "Data columns (total 33 columns):\n",
      "h1n1_concern                   13282 non-null float64\n",
      "h1n1_knowledge                 13282 non-null float64\n",
      "behavioral_antiviral_meds      13282 non-null float64\n",
      "behavioral_avoidance           13282 non-null float64\n",
      "behavioral_face_mask           13282 non-null float64\n",
      "behavioral_wash_hands          13282 non-null float64\n",
      "behavioral_large_gatherings    13282 non-null float64\n",
      "behavioral_outside_home        13282 non-null float64\n",
      "behavioral_touch_face          13282 non-null float64\n",
      "doctor_recc_h1n1               13282 non-null float64\n",
      "doctor_recc_seasonal           13282 non-null float64\n",
      "chronic_med_condition          13282 non-null float64\n",
      "child_under_6_months           13282 non-null float64\n",
      "health_worker                  13282 non-null float64\n",
      "opinion_h1n1_vacc_effective    13282 non-null float64\n",
      "opinion_h1n1_risk              13282 non-null float64\n",
      "opinion_h1n1_sick_from_vacc    13282 non-null float64\n",
      "opinion_seas_vacc_effective    13282 non-null float64\n",
      "opinion_seas_risk              13282 non-null float64\n",
      "opinion_seas_sick_from_vacc    13282 non-null float64\n",
      "age_group                      13282 non-null float64\n",
      "education                      13282 non-null float64\n",
      "race                           13282 non-null float64\n",
      "sex                            13282 non-null float64\n",
      "income_poverty                 13282 non-null float64\n",
      "marital_status                 13282 non-null float64\n",
      "rent_or_own                    13282 non-null float64\n",
      "employment_status              13282 non-null float64\n",
      "hhs_geo_region                 13282 non-null float64\n",
      "census_msa                     13282 non-null float64\n",
      "household_adults               13282 non-null float64\n",
      "household_children             13282 non-null float64\n",
      "employment_occupation          13282 non-null float64\n",
      "dtypes: float64(33)\n",
      "memory usage: 3.3 MB\n"
     ]
    }
   ],
   "source": [
    "train_np = oe.fit_transform(train)\n",
    "train = pd.DataFrame(data = train_np,columns = test_EO.columns)\n",
    "train.info()"
   ]
  },
  {
   "cell_type": "code",
   "execution_count": 25,
   "metadata": {},
   "outputs": [],
   "source": [
    "X_train = train.iloc[:,:32]\n",
    "X_test = test.iloc[:,:32]\n",
    "y_train = train.iloc[:,32:]\n",
    "y_test = test.iloc[:,32:]"
   ]
  },
  {
   "cell_type": "code",
   "execution_count": 26,
   "metadata": {},
   "outputs": [
    {
     "name": "stderr",
     "output_type": "stream",
     "text": [
      "F:\\Anaconda\\lib\\site-packages\\sklearn\\ensemble\\forest.py:245: FutureWarning: The default value of n_estimators will change from 10 in version 0.20 to 100 in 0.22.\n",
      "  \"10 in version 0.20 to 100 in 0.22.\", FutureWarning)\n",
      "F:\\Anaconda\\lib\\site-packages\\ipykernel_launcher.py:3: DataConversionWarning: A column-vector y was passed when a 1d array was expected. Please change the shape of y to (n_samples,), for example using ravel().\n",
      "  This is separate from the ipykernel package so we can avoid doing imports until\n"
     ]
    },
    {
     "data": {
      "text/plain": [
       "pandas.core.frame.DataFrame"
      ]
     },
     "execution_count": 26,
     "metadata": {},
     "output_type": "execute_result"
    }
   ],
   "source": [
    "from sklearn.ensemble import RandomForestClassifier\n",
    "Rf_clf = RandomForestClassifier(random_state=45)\n",
    "Rf_clf.fit(X_train,y_train)\n",
    "y_pred = Rf_clf.predict(X_test)\n",
    "type(y_train)"
   ]
  },
  {
   "cell_type": "code",
   "execution_count": 27,
   "metadata": {},
   "outputs": [
    {
     "name": "stdout",
     "output_type": "stream",
     "text": [
      "<class 'pandas.core.frame.DataFrame'>\n",
      "RangeIndex: 26708 entries, 0 to 26707\n",
      "Data columns (total 6 columns):\n",
      "health_insurance             14480 non-null float64\n",
      "employment_industry          13433 non-null object\n",
      "employment_occupation        13282 non-null object\n",
      "health_insurance_fin         26708 non-null float64\n",
      "employment_industry_fin      26708 non-null float64\n",
      "employment_occupation_fin    26708 non-null float64\n",
      "dtypes: float64(4), object(2)\n",
      "memory usage: 1.2+ MB\n"
     ]
    },
    {
     "name": "stderr",
     "output_type": "stream",
     "text": [
      "F:\\Anaconda\\lib\\site-packages\\ipykernel_launcher.py:4: SettingWithCopyWarning: \n",
      "A value is trying to be set on a copy of a slice from a DataFrame.\n",
      "Try using .loc[row_indexer,col_indexer] = value instead\n",
      "\n",
      "See the caveats in the documentation: http://pandas.pydata.org/pandas-docs/stable/indexing.html#indexing-view-versus-copy\n",
      "  after removing the cwd from sys.path.\n"
     ]
    }
   ],
   "source": [
    "y_train = y_train.values.reshape(-1)\n",
    "import numpy as np\n",
    "y_fin = np.concatenate((y_train,y_pred))\n",
    "target_col['employment_occupation_fin'] = y_fin\n",
    "target_col.info()"
   ]
  },
  {
   "cell_type": "code",
   "execution_count": 28,
   "metadata": {},
   "outputs": [
    {
     "name": "stderr",
     "output_type": "stream",
     "text": [
      "F:\\Anaconda\\lib\\site-packages\\pandas\\core\\frame.py:3697: SettingWithCopyWarning: \n",
      "A value is trying to be set on a copy of a slice from a DataFrame\n",
      "\n",
      "See the caveats in the documentation: http://pandas.pydata.org/pandas-docs/stable/indexing.html#indexing-view-versus-copy\n",
      "  errors=errors)\n"
     ]
    }
   ],
   "source": [
    "target_col.drop(['employment_occupation','employment_industry','health_insurance'],axis=1,inplace=True)"
   ]
  },
  {
   "cell_type": "code",
   "execution_count": 29,
   "metadata": {},
   "outputs": [
    {
     "name": "stdout",
     "output_type": "stream",
     "text": [
      "<class 'pandas.core.frame.DataFrame'>\n",
      "RangeIndex: 26708 entries, 0 to 26707\n",
      "Data columns (total 3 columns):\n",
      "health_insurance_fin         26708 non-null float64\n",
      "employment_industry_fin      26708 non-null float64\n",
      "employment_occupation_fin    26708 non-null float64\n",
      "dtypes: float64(3)\n",
      "memory usage: 626.0 KB\n"
     ]
    }
   ],
   "source": [
    "target_col.info()"
   ]
  },
  {
   "cell_type": "code",
   "execution_count": 30,
   "metadata": {},
   "outputs": [
    {
     "data": {
      "text/plain": [
       "(26708, 35)"
      ]
     },
     "execution_count": 30,
     "metadata": {},
     "output_type": "execute_result"
    }
   ],
   "source": [
    "test_final = pd.merge(left=test_data_imp_df1, left_index=True,right=target_col, right_index=True,\n",
    "                  how='inner')\n",
    "test_final.shape"
   ]
  },
  {
   "cell_type": "code",
   "execution_count": 34,
   "metadata": {},
   "outputs": [
    {
     "name": "stdout",
     "output_type": "stream",
     "text": [
      "<class 'pandas.core.frame.DataFrame'>\n",
      "RangeIndex: 26708 entries, 0 to 26707\n",
      "Data columns (total 35 columns):\n",
      "h1n1_concern                   26708 non-null int64\n",
      "h1n1_knowledge                 26708 non-null int64\n",
      "behavioral_antiviral_meds      26708 non-null int64\n",
      "behavioral_avoidance           26708 non-null int64\n",
      "behavioral_face_mask           26708 non-null int64\n",
      "behavioral_wash_hands          26708 non-null int64\n",
      "behavioral_large_gatherings    26708 non-null int64\n",
      "behavioral_outside_home        26708 non-null int64\n",
      "behavioral_touch_face          26708 non-null int64\n",
      "doctor_recc_h1n1               26708 non-null int64\n",
      "doctor_recc_seasonal           26708 non-null int64\n",
      "chronic_med_condition          26708 non-null int64\n",
      "child_under_6_months           26708 non-null int64\n",
      "health_worker                  26708 non-null int64\n",
      "opinion_h1n1_vacc_effective    26708 non-null int64\n",
      "opinion_h1n1_risk              26708 non-null int64\n",
      "opinion_h1n1_sick_from_vacc    26708 non-null int64\n",
      "opinion_seas_vacc_effective    26708 non-null int64\n",
      "opinion_seas_risk              26708 non-null int64\n",
      "opinion_seas_sick_from_vacc    26708 non-null int64\n",
      "age_group                      26708 non-null int64\n",
      "education                      26708 non-null int64\n",
      "race                           26708 non-null int64\n",
      "sex                            26708 non-null int64\n",
      "income_poverty                 26708 non-null int64\n",
      "marital_status                 26708 non-null int64\n",
      "rent_or_own                    26708 non-null int64\n",
      "employment_status              26708 non-null int64\n",
      "hhs_geo_region                 26708 non-null int64\n",
      "census_msa                     26708 non-null int64\n",
      "household_adults               26708 non-null int64\n",
      "household_children             26708 non-null int64\n",
      "health_insurance_fin           26708 non-null int64\n",
      "employment_industry_fin        26708 non-null int64\n",
      "employment_occupation_fin      26708 non-null int64\n",
      "dtypes: int64(35)\n",
      "memory usage: 7.1 MB\n"
     ]
    }
   ],
   "source": [
    "test_final.info()"
   ]
  },
  {
   "cell_type": "code",
   "execution_count": 32,
   "metadata": {},
   "outputs": [],
   "source": [
    "test_final.to_csv(r'C:\\Users\\Adrish Bir\\Desktop\\Data science &Machine Learning\\Flu\\Flu\\test_final.csv',index=False,header=True)"
   ]
  },
  {
   "cell_type": "code",
   "execution_count": 33,
   "metadata": {},
   "outputs": [],
   "source": [
    "test_final = test_final.astype('int64')"
   ]
  },
  {
   "cell_type": "markdown",
   "metadata": {},
   "source": [
    "# Final prediction"
   ]
  },
  {
   "cell_type": "code",
   "execution_count": 36,
   "metadata": {},
   "outputs": [],
   "source": [
    "import joblib\n",
    "Fludata_model = joblib.load('Fludata_model.pkl')"
   ]
  },
  {
   "cell_type": "code",
   "execution_count": 38,
   "metadata": {},
   "outputs": [
    {
     "data": {
      "text/plain": [
       "scipy.sparse.lil.lil_matrix"
      ]
     },
     "execution_count": 38,
     "metadata": {},
     "output_type": "execute_result"
    }
   ],
   "source": [
    "y_scores = Fludata_model.predict_proba(test_final)\n",
    "type(y_scores)"
   ]
  },
  {
   "cell_type": "code",
   "execution_count": 40,
   "metadata": {},
   "outputs": [
    {
     "ename": "AttributeError",
     "evalue": "'numpy.ndarray' object has no attribute 'toarray'",
     "output_type": "error",
     "traceback": [
      "\u001b[1;31m---------------------------------------------------------------------------\u001b[0m",
      "\u001b[1;31mAttributeError\u001b[0m                            Traceback (most recent call last)",
      "\u001b[1;32m<ipython-input-40-97b669f6f725>\u001b[0m in \u001b[0;36m<module>\u001b[1;34m()\u001b[0m\n\u001b[1;32m----> 1\u001b[1;33m \u001b[0my_scores\u001b[0m \u001b[1;33m=\u001b[0m \u001b[0my_scores\u001b[0m\u001b[1;33m.\u001b[0m\u001b[0mtoarray\u001b[0m\u001b[1;33m(\u001b[0m\u001b[1;33m)\u001b[0m\u001b[1;33m\u001b[0m\u001b[0m\n\u001b[0m\u001b[0;32m      2\u001b[0m \u001b[0my_scores_df\u001b[0m \u001b[1;33m=\u001b[0m \u001b[0mpd\u001b[0m\u001b[1;33m.\u001b[0m\u001b[0mDataFrame\u001b[0m\u001b[1;33m(\u001b[0m\u001b[0mdata\u001b[0m \u001b[1;33m=\u001b[0m \u001b[0my_scores\u001b[0m\u001b[1;33m,\u001b[0m\u001b[0mcolumns\u001b[0m \u001b[1;33m=\u001b[0m\u001b[1;33m[\u001b[0m\u001b[1;34m'h1n1_vaccine'\u001b[0m\u001b[1;33m,\u001b[0m\u001b[1;34m'seasonal_vaccine'\u001b[0m\u001b[1;33m]\u001b[0m \u001b[1;33m)\u001b[0m\u001b[1;33m\u001b[0m\u001b[0m\n\u001b[0;32m      3\u001b[0m \u001b[0my_scores_df\u001b[0m\u001b[1;33m.\u001b[0m\u001b[0minfo\u001b[0m\u001b[1;33m(\u001b[0m\u001b[1;33m)\u001b[0m\u001b[1;33m\u001b[0m\u001b[0m\n",
      "\u001b[1;31mAttributeError\u001b[0m: 'numpy.ndarray' object has no attribute 'toarray'"
     ]
    }
   ],
   "source": [
    "y_scores = y_scores.toarray()\n",
    "y_scores_df = pd.DataFrame(data = y_scores,columns =['h1n1_vaccine','seasonal_vaccine'] )"
   ]
  },
  {
   "cell_type": "code",
   "execution_count": 41,
   "metadata": {},
   "outputs": [
    {
     "name": "stdout",
     "output_type": "stream",
     "text": [
      "<class 'pandas.core.frame.DataFrame'>\n",
      "RangeIndex: 26708 entries, 0 to 26707\n",
      "Data columns (total 2 columns):\n",
      "h1n1_vaccine        26708 non-null float64\n",
      "seasonal_vaccine    26708 non-null float64\n",
      "dtypes: float64(2)\n",
      "memory usage: 417.4 KB\n"
     ]
    }
   ],
   "source": [
    "y_scores_df.info()"
   ]
  },
  {
   "cell_type": "code",
   "execution_count": 44,
   "metadata": {},
   "outputs": [
    {
     "name": "stdout",
     "output_type": "stream",
     "text": [
      "<class 'pandas.core.frame.DataFrame'>\n",
      "RangeIndex: 26708 entries, 0 to 26707\n",
      "Data columns (total 3 columns):\n",
      "respondent_id       26708 non-null int64\n",
      "h1n1_vaccine        26708 non-null float64\n",
      "seasonal_vaccine    26708 non-null float64\n",
      "dtypes: float64(2), int64(1)\n",
      "memory usage: 626.0 KB\n"
     ]
    }
   ],
   "source": [
    "prediction = pd.merge(left= test_data[['respondent_id']], left_index=True,right=y_scores_df, right_index=True,\n",
    "                  how='inner')\n",
    "prediction.info()"
   ]
  },
  {
   "cell_type": "code",
   "execution_count": 45,
   "metadata": {},
   "outputs": [],
   "source": [
    "prediction.to_csv(r'C:\\Users\\Adrish Bir\\Desktop\\Data science &Machine Learning\\Flu\\Flu\\prediction.csv',index=False,header=True)"
   ]
  },
  {
   "cell_type": "markdown",
   "metadata": {},
   "source": [
    "########## THE END ###########"
   ]
  },
  {
   "cell_type": "code",
   "execution_count": null,
   "metadata": {},
   "outputs": [],
   "source": []
  }
 ],
 "metadata": {
  "kernelspec": {
   "display_name": "Python 3",
   "language": "python",
   "name": "python3"
  },
  "language_info": {
   "codemirror_mode": {
    "name": "ipython",
    "version": 3
   },
   "file_extension": ".py",
   "mimetype": "text/x-python",
   "name": "python",
   "nbconvert_exporter": "python",
   "pygments_lexer": "ipython3",
   "version": "3.8.3"
  }
 },
 "nbformat": 4,
 "nbformat_minor": 4
}
